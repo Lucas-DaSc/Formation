{
 "cells": [
  {
   "cell_type": "markdown",
   "id": "b57de7e7-f7da-499c-b254-586ce484a4f9",
   "metadata": {},
   "source": [
    "# Apprendre python "
   ]
  },
  {
   "cell_type": "markdown",
   "id": "f4ba4a78-916f-436f-8efb-c092eb49b9de",
   "metadata": {},
   "source": [
    "## Bases "
   ]
  },
  {
   "cell_type": "code",
   "execution_count": 3,
   "id": "e10b08b8-8464-4f92-85be-0b795b425c6b",
   "metadata": {},
   "outputs": [],
   "source": [
    "# Dependances\n",
    "import pandas as pd\n",
    "import numpy as np \n",
    "import matplotlib.pyplot as plt\n",
    "import seaborn as sns"
   ]
  },
  {
   "cell_type": "code",
   "execution_count": 4,
   "id": "820a4e08-6278-427a-88cd-2f3460804daf",
   "metadata": {},
   "outputs": [],
   "source": [
    "# !pip install"
   ]
  },
  {
   "cell_type": "markdown",
   "id": "f8561c01-7284-421d-b219-b510bc55ed65",
   "metadata": {
    "jp-MarkdownHeadingCollapsed": true
   },
   "source": [
    "### Variable et fonction"
   ]
  },
  {
   "cell_type": "code",
   "execution_count": 6,
   "id": "fa6a9f49-d264-460f-85e0-8580d963398a",
   "metadata": {},
   "outputs": [
    {
     "name": "stdout",
     "output_type": "stream",
     "text": [
      "5 2 3\n"
     ]
    }
   ],
   "source": [
    "x = 5 \n",
    "y = 2\n",
    "z = 3 \n",
    "print(x, y, z)"
   ]
  },
  {
   "cell_type": "code",
   "execution_count": 7,
   "id": "aac5a2c9-a2a6-414f-a2ea-40c7905d7581",
   "metadata": {},
   "outputs": [],
   "source": [
    "def somme (x, y, z):\n",
    "    Somme = x + y + z\n",
    "    return Somme"
   ]
  },
  {
   "cell_type": "code",
   "execution_count": 8,
   "id": "4747ef90-3dc6-42aa-9536-abbc119e8685",
   "metadata": {},
   "outputs": [
    {
     "data": {
      "text/plain": [
       "10"
      ]
     },
     "execution_count": 8,
     "metadata": {},
     "output_type": "execute_result"
    }
   ],
   "source": [
    "somme(5,2,3)"
   ]
  },
  {
   "cell_type": "code",
   "execution_count": 9,
   "id": "4c2708df-6615-43ce-b5cd-4bcb30109cfe",
   "metadata": {},
   "outputs": [
    {
     "data": {
      "text/plain": [
       "10"
      ]
     },
     "execution_count": 9,
     "metadata": {},
     "output_type": "execute_result"
    }
   ],
   "source": [
    "somme(x,y,z)"
   ]
  },
  {
   "cell_type": "code",
   "execution_count": 10,
   "id": "8c46e331-e47b-4545-a951-8d8e34927bf3",
   "metadata": {},
   "outputs": [],
   "source": [
    "## Créer une fonction permettant de calculer une normalisation et l'utiliser "
   ]
  },
  {
   "cell_type": "markdown",
   "id": "76810654-b1c4-4eae-8945-7b9b92e111fb",
   "metadata": {},
   "source": [
    "<details><summary>Solution</summary>\n",
    "\n",
    "```python\n",
    "    def normal(x, X, s):\n",
    "    x_norm = (x-X)/s\n",
    "    return x_norm\n",
    "```\n",
    "</details>"
   ]
  },
  {
   "cell_type": "markdown",
   "id": "c45327ab-e717-4692-944b-37aa74390ee1",
   "metadata": {},
   "source": [
    "### Listes"
   ]
  },
  {
   "cell_type": "code",
   "execution_count": 13,
   "id": "c0a705db-c1ac-4c04-ad5a-5e413566957e",
   "metadata": {},
   "outputs": [],
   "source": [
    "List = [1,2,3,4,5,6] "
   ]
  },
  {
   "cell_type": "code",
   "execution_count": 14,
   "id": "437fe06b-b421-4e00-9a3e-005948f6e95e",
   "metadata": {},
   "outputs": [
    {
     "name": "stdout",
     "output_type": "stream",
     "text": [
      "2\n",
      "6\n",
      "[1, 2, 3]\n"
     ]
    }
   ],
   "source": [
    "print(List[1])\n",
    "print(List[-1])\n",
    "print(List[0:3])"
   ]
  },
  {
   "cell_type": "code",
   "execution_count": 15,
   "id": "b4148daf-76f8-4383-8dc7-0a3e6954942a",
   "metadata": {},
   "outputs": [],
   "source": [
    "List_2 = [0.1, 0.5, 0.3, 0.9]"
   ]
  },
  {
   "cell_type": "code",
   "execution_count": 16,
   "id": "d6289b71-50f5-430f-8971-d830355f4b56",
   "metadata": {},
   "outputs": [],
   "source": [
    "List_2.append(0.4)\n",
    "List_2.insert(2,'Bonjour')"
   ]
  },
  {
   "cell_type": "code",
   "execution_count": 17,
   "id": "535f5edf-424f-4b80-a47c-4cb20192d15b",
   "metadata": {},
   "outputs": [
    {
     "name": "stdout",
     "output_type": "stream",
     "text": [
      "Ceci est la Liste 2 : [0.1, 0.5, 'Bonjour', 0.3, 0.9, 0.4]\n",
      "Voici sa longueur : 6\n"
     ]
    }
   ],
   "source": [
    "print('Ceci est la Liste 2 :', List_2)\n",
    "print('Voici sa longueur :', len(List_2))"
   ]
  },
  {
   "cell_type": "code",
   "execution_count": 18,
   "id": "d1642570-64b6-4411-9c07-9ef0a37db55e",
   "metadata": {},
   "outputs": [
    {
     "data": {
      "text/plain": [
       "[0.1, 0.3, 0.4, 0.5, 0.9]"
      ]
     },
     "execution_count": 18,
     "metadata": {},
     "output_type": "execute_result"
    }
   ],
   "source": [
    "del List_2[2]\n",
    "List_2.sort()\n",
    "List_2"
   ]
  },
  {
   "cell_type": "markdown",
   "id": "8c273cac-1370-4c8f-9efa-6891606f2c8f",
   "metadata": {
    "jp-MarkdownHeadingCollapsed": true
   },
   "source": [
    "### Dictionnaire"
   ]
  },
  {
   "cell_type": "code",
   "execution_count": 20,
   "id": "3e0bc207-f9ab-40b8-b1ed-d792bba60ea6",
   "metadata": {},
   "outputs": [
    {
     "name": "stdout",
     "output_type": "stream",
     "text": [
      "{'0': 'Lola', '1': 'Dorine'}\n"
     ]
    }
   ],
   "source": [
    "dictionnaire = {'0' : 'Lola',\n",
    "                '1' : 'Dorine',}\n",
    "print(dictionnaire)"
   ]
  },
  {
   "cell_type": "code",
   "execution_count": 21,
   "id": "73e3a076-a404-4c42-931b-6eec44301894",
   "metadata": {},
   "outputs": [
    {
     "name": "stdout",
     "output_type": "stream",
     "text": [
      "{'name': [['Ben', 'Sara']], 'age': [[26, 23]]}\n"
     ]
    }
   ],
   "source": [
    "classeur = {'name': [], 'age': []}\n",
    "\n",
    "# Les données à ajouter\n",
    "name = ['Ben', 'Sara']\n",
    "age = [26, 23]\n",
    "\n",
    "# Ajouter les éléments un par un\n",
    "classeur['name'].append(name)  # Ajoute chaque élément de la liste `name`\n",
    "classeur['age'].append(age)    # Ajoute chaque élément de la liste `age`\n",
    "\n",
    "print(classeur)"
   ]
  },
  {
   "cell_type": "code",
   "execution_count": 22,
   "id": "04e3daf2-b529-4d1c-8f04-ea342294052d",
   "metadata": {},
   "outputs": [
    {
     "name": "stdout",
     "output_type": "stream",
     "text": [
      "Voici les clés du dico : name\n",
      "Voici les clés du dico : age\n"
     ]
    }
   ],
   "source": [
    "for i in classeur:\n",
    "    print('Voici les clés du dico :', i)"
   ]
  },
  {
   "cell_type": "markdown",
   "id": "bd9af44b-1359-478a-af01-fadd3c1c67f3",
   "metadata": {
    "jp-MarkdownHeadingCollapsed": true
   },
   "source": [
    "### If ?"
   ]
  },
  {
   "cell_type": "code",
   "execution_count": 24,
   "id": "ca423d73-1243-4ce1-b383-ed1a39428422",
   "metadata": {},
   "outputs": [],
   "source": [
    "def signe(x): \n",
    "    if x > 0 : \n",
    "        print (x, 'positive')"
   ]
  },
  {
   "cell_type": "code",
   "execution_count": 25,
   "id": "cfc0d785-e97e-4809-a815-c2f42a0990fb",
   "metadata": {},
   "outputs": [
    {
     "name": "stdout",
     "output_type": "stream",
     "text": [
      "2 positive\n",
      "None None\n"
     ]
    }
   ],
   "source": [
    "print(signe(2), signe(-2))"
   ]
  },
  {
   "cell_type": "code",
   "execution_count": 26,
   "id": "c03a2cbd-3780-401a-96a8-9d29621533e8",
   "metadata": {},
   "outputs": [],
   "source": [
    "def signe(x): \n",
    "    if x > 0 : \n",
    "        print (x, 'positive')\n",
    "    else : \n",
    "        print(x, 'negative')"
   ]
  },
  {
   "cell_type": "code",
   "execution_count": 27,
   "id": "4e72c13b-cb02-4077-9ee0-dd57a182173d",
   "metadata": {},
   "outputs": [
    {
     "name": "stdout",
     "output_type": "stream",
     "text": [
      "2 positive\n",
      "-2 negative\n",
      "0 negative\n",
      "None None None\n"
     ]
    }
   ],
   "source": [
    "print(signe(2), signe(-2), signe(0))"
   ]
  },
  {
   "cell_type": "code",
   "execution_count": 28,
   "id": "58cd77c2-7781-4d71-b6b7-850a6dabb04a",
   "metadata": {},
   "outputs": [],
   "source": [
    "def signe(x): \n",
    "    if x > 0 : \n",
    "        print (x, 'positive')\n",
    "    elif x == 0 :\n",
    "        print(x, 'null')\n",
    "    else : \n",
    "        print(x, 'negative')"
   ]
  },
  {
   "cell_type": "code",
   "execution_count": 29,
   "id": "63fd9341-fd6c-4f48-810b-f885ae54aa9d",
   "metadata": {},
   "outputs": [
    {
     "name": "stdout",
     "output_type": "stream",
     "text": [
      "2 positive\n",
      "-2 negative\n",
      "0 null\n",
      "None None None\n"
     ]
    }
   ],
   "source": [
    "print(signe(2), signe(-2), signe(0))"
   ]
  },
  {
   "cell_type": "code",
   "execution_count": 30,
   "id": "22d74daa-547f-4df7-9a6d-8dce54f98da7",
   "metadata": {},
   "outputs": [],
   "source": [
    "### Exercice \n",
    "# Step 1 : Créer une liste d'entier positif et négatif\n",
    "# Step 2 : Initialiser un classeur vide avec une clé 'positive' et 'négative'\n",
    "# Step 3 : Créer une fonction trier(dico,nombre) (conseil utiliser append)\n",
    "# Step 4 : Faire passer la liste dans le trieur"
   ]
  },
  {
   "cell_type": "markdown",
   "id": "3ec61b15-8c27-4ceb-abbf-56fe9770fd19",
   "metadata": {},
   "source": [
    "<details><summary>Solution</summary>\n",
    "\n",
    "```python\n",
    "## Création d'une liste d'entier négatif et positif\n",
    "integer = [-2, 3, 5, -6]\n",
    "\n",
    "## Créer un classeur vide\n",
    "classeur = { \"positif\": [],\n",
    "            \"négatif\": []}\n",
    "\n",
    "## Fonction trier\n",
    "def trier(classeur, nombre):\n",
    "    if nombre >= 0:\n",
    "        classeur[\"positif\"].append(nombre)\n",
    "    else:\n",
    "        classeur[\"négatif\"].append(nombre)\n",
    "    return classeur\n",
    "\n",
    "## Faire passer la liste dans le trieur\n",
    "for i in integer:\n",
    "    trier(classeur, i)\n",
    "\n",
    "classeur\n",
    "```\n",
    "</details>"
   ]
  },
  {
   "cell_type": "markdown",
   "id": "071f69d7-456c-4250-a3bf-6fba413bf961",
   "metadata": {
    "jp-MarkdownHeadingCollapsed": true
   },
   "source": [
    "### Built-in Fonctions"
   ]
  },
  {
   "cell_type": "code",
   "execution_count": 33,
   "id": "def9edc7-0ba5-4b8e-b870-48be380ff4b1",
   "metadata": {},
   "outputs": [],
   "source": [
    "x = -5.5\n",
    "Liste = [1,2,3,4,5,6] "
   ]
  },
  {
   "cell_type": "code",
   "execution_count": 34,
   "id": "c86c2a05-6435-4ed9-bef9-7c20de7636db",
   "metadata": {},
   "outputs": [
    {
     "name": "stdout",
     "output_type": "stream",
     "text": [
      "5.5\n",
      "6\n",
      "1\n",
      "<class 'float'>\n",
      "-5.5\n",
      "-5\n",
      "-5.5\n"
     ]
    }
   ],
   "source": [
    "print(abs(x))\n",
    "print(max(Liste))\n",
    "print(min(Liste))\n",
    "\n",
    "print(type(x))\n",
    "print(str(x))\n",
    "print(int(x))\n",
    "print(float(x))"
   ]
  },
  {
   "cell_type": "markdown",
   "id": "0e391ab4-5024-4266-a224-66cd2f9caf0b",
   "metadata": {},
   "source": [
    "### Pandas"
   ]
  },
  {
   "cell_type": "code",
   "execution_count": 40,
   "id": "caa99055-529c-4fea-bd75-7b96ed31f0b8",
   "metadata": {},
   "outputs": [],
   "source": [
    "data = pd.read_excel('titanic.xls')"
   ]
  },
  {
   "cell_type": "code",
   "execution_count": 41,
   "id": "e9fc5bde-e17f-4c2d-a743-edcc8bc2f7c1",
   "metadata": {},
   "outputs": [],
   "source": [
    "data = pd.read_csv('C:/Users/Lucas/dataset_gym.csv', sep = ',')"
   ]
  },
  {
   "cell_type": "code",
   "execution_count": 42,
   "id": "e5d2493b-24c7-4ea7-b443-eccebc93a6d0",
   "metadata": {},
   "outputs": [
    {
     "data": {
      "text/plain": [
       "(973, 15)"
      ]
     },
     "execution_count": 42,
     "metadata": {},
     "output_type": "execute_result"
    }
   ],
   "source": [
    "data.shape"
   ]
  },
  {
   "cell_type": "code",
   "execution_count": 43,
   "id": "9b45ca9e-931e-4cac-8e95-b5a125ba0339",
   "metadata": {},
   "outputs": [
    {
     "data": {
      "text/html": [
       "<div>\n",
       "<style scoped>\n",
       "    .dataframe tbody tr th:only-of-type {\n",
       "        vertical-align: middle;\n",
       "    }\n",
       "\n",
       "    .dataframe tbody tr th {\n",
       "        vertical-align: top;\n",
       "    }\n",
       "\n",
       "    .dataframe thead th {\n",
       "        text-align: right;\n",
       "    }\n",
       "</style>\n",
       "<table border=\"1\" class=\"dataframe\">\n",
       "  <thead>\n",
       "    <tr style=\"text-align: right;\">\n",
       "      <th></th>\n",
       "      <th>Age</th>\n",
       "      <th>Gender</th>\n",
       "      <th>Weight (kg)</th>\n",
       "      <th>Height (m)</th>\n",
       "      <th>Max_BPM</th>\n",
       "      <th>Avg_BPM</th>\n",
       "      <th>Resting_BPM</th>\n",
       "      <th>Session_Duration (hours)</th>\n",
       "      <th>Calories_Burned</th>\n",
       "      <th>Workout_Type</th>\n",
       "      <th>Fat_Percentage</th>\n",
       "      <th>Water_Intake (liters)</th>\n",
       "      <th>Workout_Frequency (days/week)</th>\n",
       "      <th>Experience_Level</th>\n",
       "      <th>BMI</th>\n",
       "    </tr>\n",
       "  </thead>\n",
       "  <tbody>\n",
       "    <tr>\n",
       "      <th>968</th>\n",
       "      <td>24</td>\n",
       "      <td>Male</td>\n",
       "      <td>87.1</td>\n",
       "      <td>1.74</td>\n",
       "      <td>187</td>\n",
       "      <td>158</td>\n",
       "      <td>67</td>\n",
       "      <td>1.57</td>\n",
       "      <td>1364.0</td>\n",
       "      <td>Strength</td>\n",
       "      <td>10.0</td>\n",
       "      <td>3.5</td>\n",
       "      <td>4</td>\n",
       "      <td>3</td>\n",
       "      <td>28.77</td>\n",
       "    </tr>\n",
       "    <tr>\n",
       "      <th>969</th>\n",
       "      <td>25</td>\n",
       "      <td>Male</td>\n",
       "      <td>66.6</td>\n",
       "      <td>1.61</td>\n",
       "      <td>184</td>\n",
       "      <td>166</td>\n",
       "      <td>56</td>\n",
       "      <td>1.38</td>\n",
       "      <td>1260.0</td>\n",
       "      <td>Strength</td>\n",
       "      <td>25.0</td>\n",
       "      <td>3.0</td>\n",
       "      <td>2</td>\n",
       "      <td>1</td>\n",
       "      <td>25.69</td>\n",
       "    </tr>\n",
       "    <tr>\n",
       "      <th>970</th>\n",
       "      <td>59</td>\n",
       "      <td>Female</td>\n",
       "      <td>60.4</td>\n",
       "      <td>1.76</td>\n",
       "      <td>194</td>\n",
       "      <td>120</td>\n",
       "      <td>53</td>\n",
       "      <td>1.72</td>\n",
       "      <td>929.0</td>\n",
       "      <td>Cardio</td>\n",
       "      <td>18.8</td>\n",
       "      <td>2.7</td>\n",
       "      <td>5</td>\n",
       "      <td>3</td>\n",
       "      <td>19.50</td>\n",
       "    </tr>\n",
       "    <tr>\n",
       "      <th>971</th>\n",
       "      <td>32</td>\n",
       "      <td>Male</td>\n",
       "      <td>126.4</td>\n",
       "      <td>1.83</td>\n",
       "      <td>198</td>\n",
       "      <td>146</td>\n",
       "      <td>62</td>\n",
       "      <td>1.10</td>\n",
       "      <td>883.0</td>\n",
       "      <td>HIIT</td>\n",
       "      <td>28.2</td>\n",
       "      <td>2.1</td>\n",
       "      <td>3</td>\n",
       "      <td>2</td>\n",
       "      <td>37.74</td>\n",
       "    </tr>\n",
       "    <tr>\n",
       "      <th>972</th>\n",
       "      <td>46</td>\n",
       "      <td>Male</td>\n",
       "      <td>88.7</td>\n",
       "      <td>1.63</td>\n",
       "      <td>166</td>\n",
       "      <td>146</td>\n",
       "      <td>66</td>\n",
       "      <td>0.75</td>\n",
       "      <td>542.0</td>\n",
       "      <td>Strength</td>\n",
       "      <td>28.8</td>\n",
       "      <td>3.5</td>\n",
       "      <td>2</td>\n",
       "      <td>1</td>\n",
       "      <td>33.38</td>\n",
       "    </tr>\n",
       "  </tbody>\n",
       "</table>\n",
       "</div>"
      ],
      "text/plain": [
       "     Age  Gender  Weight (kg)  Height (m)  Max_BPM  Avg_BPM  Resting_BPM  \\\n",
       "968   24    Male         87.1        1.74      187      158           67   \n",
       "969   25    Male         66.6        1.61      184      166           56   \n",
       "970   59  Female         60.4        1.76      194      120           53   \n",
       "971   32    Male        126.4        1.83      198      146           62   \n",
       "972   46    Male         88.7        1.63      166      146           66   \n",
       "\n",
       "     Session_Duration (hours)  Calories_Burned Workout_Type  Fat_Percentage  \\\n",
       "968                      1.57           1364.0     Strength            10.0   \n",
       "969                      1.38           1260.0     Strength            25.0   \n",
       "970                      1.72            929.0       Cardio            18.8   \n",
       "971                      1.10            883.0         HIIT            28.2   \n",
       "972                      0.75            542.0     Strength            28.8   \n",
       "\n",
       "     Water_Intake (liters)  Workout_Frequency (days/week)  Experience_Level  \\\n",
       "968                    3.5                              4                 3   \n",
       "969                    3.0                              2                 1   \n",
       "970                    2.7                              5                 3   \n",
       "971                    2.1                              3                 2   \n",
       "972                    3.5                              2                 1   \n",
       "\n",
       "       BMI  \n",
       "968  28.77  \n",
       "969  25.69  \n",
       "970  19.50  \n",
       "971  37.74  \n",
       "972  33.38  "
      ]
     },
     "execution_count": 43,
     "metadata": {},
     "output_type": "execute_result"
    }
   ],
   "source": [
    "data.head()\n",
    "data.tail()"
   ]
  },
  {
   "cell_type": "code",
   "execution_count": 44,
   "id": "3d60fca5-cca5-46b7-a8e0-882fb312eab0",
   "metadata": {},
   "outputs": [
    {
     "data": {
      "text/plain": [
       "Age                                int64\n",
       "Gender                            object\n",
       "Weight (kg)                      float64\n",
       "Height (m)                       float64\n",
       "Max_BPM                            int64\n",
       "Avg_BPM                            int64\n",
       "Resting_BPM                        int64\n",
       "Session_Duration (hours)         float64\n",
       "Calories_Burned                  float64\n",
       "Workout_Type                      object\n",
       "Fat_Percentage                   float64\n",
       "Water_Intake (liters)            float64\n",
       "Workout_Frequency (days/week)      int64\n",
       "Experience_Level                   int64\n",
       "BMI                              float64\n",
       "dtype: object"
      ]
     },
     "execution_count": 44,
     "metadata": {},
     "output_type": "execute_result"
    }
   ],
   "source": [
    "data.info\n",
    "data.dtypes"
   ]
  },
  {
   "cell_type": "code",
   "execution_count": 45,
   "id": "66f84fe2-2190-4f69-8bb7-5ca0cd811221",
   "metadata": {},
   "outputs": [
    {
     "name": "stdout",
     "output_type": "stream",
     "text": [
      "float64    7\n",
      "int64      6\n",
      "object     2\n",
      "Name: count, dtype: int64\n"
     ]
    }
   ],
   "source": [
    "print(data.dtypes.value_counts())"
   ]
  },
  {
   "cell_type": "code",
   "execution_count": 46,
   "id": "24190bf2-2588-49c0-8dc9-053093c89d4f",
   "metadata": {},
   "outputs": [
    {
     "data": {
      "text/html": [
       "<div>\n",
       "<style scoped>\n",
       "    .dataframe tbody tr th:only-of-type {\n",
       "        vertical-align: middle;\n",
       "    }\n",
       "\n",
       "    .dataframe tbody tr th {\n",
       "        vertical-align: top;\n",
       "    }\n",
       "\n",
       "    .dataframe thead th {\n",
       "        text-align: right;\n",
       "    }\n",
       "</style>\n",
       "<table border=\"1\" class=\"dataframe\">\n",
       "  <thead>\n",
       "    <tr style=\"text-align: right;\">\n",
       "      <th></th>\n",
       "      <th>Age</th>\n",
       "      <th>Gender</th>\n",
       "      <th>Weight (kg)</th>\n",
       "      <th>Height (m)</th>\n",
       "      <th>Max_BPM</th>\n",
       "      <th>Avg_BPM</th>\n",
       "      <th>Resting_BPM</th>\n",
       "      <th>Session_Duration (hours)</th>\n",
       "      <th>Calories_Burned</th>\n",
       "      <th>Workout_Type</th>\n",
       "      <th>Fat_Percentage</th>\n",
       "      <th>Water_Intake (liters)</th>\n",
       "      <th>Workout_Frequency (days/week)</th>\n",
       "      <th>Experience_Level</th>\n",
       "      <th>BMI</th>\n",
       "    </tr>\n",
       "  </thead>\n",
       "  <tbody>\n",
       "    <tr>\n",
       "      <th>count</th>\n",
       "      <td>973.000000</td>\n",
       "      <td>973</td>\n",
       "      <td>973.000000</td>\n",
       "      <td>973.00000</td>\n",
       "      <td>973.000000</td>\n",
       "      <td>973.000000</td>\n",
       "      <td>973.000000</td>\n",
       "      <td>973.000000</td>\n",
       "      <td>973.000000</td>\n",
       "      <td>973</td>\n",
       "      <td>973.000000</td>\n",
       "      <td>973.000000</td>\n",
       "      <td>973.000000</td>\n",
       "      <td>973.000000</td>\n",
       "      <td>973.000000</td>\n",
       "    </tr>\n",
       "    <tr>\n",
       "      <th>unique</th>\n",
       "      <td>NaN</td>\n",
       "      <td>2</td>\n",
       "      <td>NaN</td>\n",
       "      <td>NaN</td>\n",
       "      <td>NaN</td>\n",
       "      <td>NaN</td>\n",
       "      <td>NaN</td>\n",
       "      <td>NaN</td>\n",
       "      <td>NaN</td>\n",
       "      <td>4</td>\n",
       "      <td>NaN</td>\n",
       "      <td>NaN</td>\n",
       "      <td>NaN</td>\n",
       "      <td>NaN</td>\n",
       "      <td>NaN</td>\n",
       "    </tr>\n",
       "    <tr>\n",
       "      <th>top</th>\n",
       "      <td>NaN</td>\n",
       "      <td>Male</td>\n",
       "      <td>NaN</td>\n",
       "      <td>NaN</td>\n",
       "      <td>NaN</td>\n",
       "      <td>NaN</td>\n",
       "      <td>NaN</td>\n",
       "      <td>NaN</td>\n",
       "      <td>NaN</td>\n",
       "      <td>Strength</td>\n",
       "      <td>NaN</td>\n",
       "      <td>NaN</td>\n",
       "      <td>NaN</td>\n",
       "      <td>NaN</td>\n",
       "      <td>NaN</td>\n",
       "    </tr>\n",
       "    <tr>\n",
       "      <th>freq</th>\n",
       "      <td>NaN</td>\n",
       "      <td>511</td>\n",
       "      <td>NaN</td>\n",
       "      <td>NaN</td>\n",
       "      <td>NaN</td>\n",
       "      <td>NaN</td>\n",
       "      <td>NaN</td>\n",
       "      <td>NaN</td>\n",
       "      <td>NaN</td>\n",
       "      <td>258</td>\n",
       "      <td>NaN</td>\n",
       "      <td>NaN</td>\n",
       "      <td>NaN</td>\n",
       "      <td>NaN</td>\n",
       "      <td>NaN</td>\n",
       "    </tr>\n",
       "    <tr>\n",
       "      <th>mean</th>\n",
       "      <td>38.683453</td>\n",
       "      <td>NaN</td>\n",
       "      <td>73.854676</td>\n",
       "      <td>1.72258</td>\n",
       "      <td>179.883864</td>\n",
       "      <td>143.766701</td>\n",
       "      <td>62.223022</td>\n",
       "      <td>1.256423</td>\n",
       "      <td>905.422405</td>\n",
       "      <td>NaN</td>\n",
       "      <td>24.976773</td>\n",
       "      <td>2.626619</td>\n",
       "      <td>3.321686</td>\n",
       "      <td>1.809866</td>\n",
       "      <td>24.912127</td>\n",
       "    </tr>\n",
       "    <tr>\n",
       "      <th>std</th>\n",
       "      <td>12.180928</td>\n",
       "      <td>NaN</td>\n",
       "      <td>21.207500</td>\n",
       "      <td>0.12772</td>\n",
       "      <td>11.525686</td>\n",
       "      <td>14.345101</td>\n",
       "      <td>7.327060</td>\n",
       "      <td>0.343033</td>\n",
       "      <td>272.641516</td>\n",
       "      <td>NaN</td>\n",
       "      <td>6.259419</td>\n",
       "      <td>0.600172</td>\n",
       "      <td>0.913047</td>\n",
       "      <td>0.739693</td>\n",
       "      <td>6.660879</td>\n",
       "    </tr>\n",
       "    <tr>\n",
       "      <th>min</th>\n",
       "      <td>18.000000</td>\n",
       "      <td>NaN</td>\n",
       "      <td>40.000000</td>\n",
       "      <td>1.50000</td>\n",
       "      <td>160.000000</td>\n",
       "      <td>120.000000</td>\n",
       "      <td>50.000000</td>\n",
       "      <td>0.500000</td>\n",
       "      <td>303.000000</td>\n",
       "      <td>NaN</td>\n",
       "      <td>10.000000</td>\n",
       "      <td>1.500000</td>\n",
       "      <td>2.000000</td>\n",
       "      <td>1.000000</td>\n",
       "      <td>12.320000</td>\n",
       "    </tr>\n",
       "    <tr>\n",
       "      <th>25%</th>\n",
       "      <td>28.000000</td>\n",
       "      <td>NaN</td>\n",
       "      <td>58.100000</td>\n",
       "      <td>1.62000</td>\n",
       "      <td>170.000000</td>\n",
       "      <td>131.000000</td>\n",
       "      <td>56.000000</td>\n",
       "      <td>1.040000</td>\n",
       "      <td>720.000000</td>\n",
       "      <td>NaN</td>\n",
       "      <td>21.300000</td>\n",
       "      <td>2.200000</td>\n",
       "      <td>3.000000</td>\n",
       "      <td>1.000000</td>\n",
       "      <td>20.110000</td>\n",
       "    </tr>\n",
       "    <tr>\n",
       "      <th>50%</th>\n",
       "      <td>40.000000</td>\n",
       "      <td>NaN</td>\n",
       "      <td>70.000000</td>\n",
       "      <td>1.71000</td>\n",
       "      <td>180.000000</td>\n",
       "      <td>143.000000</td>\n",
       "      <td>62.000000</td>\n",
       "      <td>1.260000</td>\n",
       "      <td>893.000000</td>\n",
       "      <td>NaN</td>\n",
       "      <td>26.200000</td>\n",
       "      <td>2.600000</td>\n",
       "      <td>3.000000</td>\n",
       "      <td>2.000000</td>\n",
       "      <td>24.160000</td>\n",
       "    </tr>\n",
       "    <tr>\n",
       "      <th>75%</th>\n",
       "      <td>49.000000</td>\n",
       "      <td>NaN</td>\n",
       "      <td>86.000000</td>\n",
       "      <td>1.80000</td>\n",
       "      <td>190.000000</td>\n",
       "      <td>156.000000</td>\n",
       "      <td>68.000000</td>\n",
       "      <td>1.460000</td>\n",
       "      <td>1076.000000</td>\n",
       "      <td>NaN</td>\n",
       "      <td>29.300000</td>\n",
       "      <td>3.100000</td>\n",
       "      <td>4.000000</td>\n",
       "      <td>2.000000</td>\n",
       "      <td>28.560000</td>\n",
       "    </tr>\n",
       "    <tr>\n",
       "      <th>max</th>\n",
       "      <td>59.000000</td>\n",
       "      <td>NaN</td>\n",
       "      <td>129.900000</td>\n",
       "      <td>2.00000</td>\n",
       "      <td>199.000000</td>\n",
       "      <td>169.000000</td>\n",
       "      <td>74.000000</td>\n",
       "      <td>2.000000</td>\n",
       "      <td>1783.000000</td>\n",
       "      <td>NaN</td>\n",
       "      <td>35.000000</td>\n",
       "      <td>3.700000</td>\n",
       "      <td>5.000000</td>\n",
       "      <td>3.000000</td>\n",
       "      <td>49.840000</td>\n",
       "    </tr>\n",
       "  </tbody>\n",
       "</table>\n",
       "</div>"
      ],
      "text/plain": [
       "               Age Gender  Weight (kg)  Height (m)     Max_BPM     Avg_BPM  \\\n",
       "count   973.000000    973   973.000000   973.00000  973.000000  973.000000   \n",
       "unique         NaN      2          NaN         NaN         NaN         NaN   \n",
       "top            NaN   Male          NaN         NaN         NaN         NaN   \n",
       "freq           NaN    511          NaN         NaN         NaN         NaN   \n",
       "mean     38.683453    NaN    73.854676     1.72258  179.883864  143.766701   \n",
       "std      12.180928    NaN    21.207500     0.12772   11.525686   14.345101   \n",
       "min      18.000000    NaN    40.000000     1.50000  160.000000  120.000000   \n",
       "25%      28.000000    NaN    58.100000     1.62000  170.000000  131.000000   \n",
       "50%      40.000000    NaN    70.000000     1.71000  180.000000  143.000000   \n",
       "75%      49.000000    NaN    86.000000     1.80000  190.000000  156.000000   \n",
       "max      59.000000    NaN   129.900000     2.00000  199.000000  169.000000   \n",
       "\n",
       "        Resting_BPM  Session_Duration (hours)  Calories_Burned Workout_Type  \\\n",
       "count    973.000000                973.000000       973.000000          973   \n",
       "unique          NaN                       NaN              NaN            4   \n",
       "top             NaN                       NaN              NaN     Strength   \n",
       "freq            NaN                       NaN              NaN          258   \n",
       "mean      62.223022                  1.256423       905.422405          NaN   \n",
       "std        7.327060                  0.343033       272.641516          NaN   \n",
       "min       50.000000                  0.500000       303.000000          NaN   \n",
       "25%       56.000000                  1.040000       720.000000          NaN   \n",
       "50%       62.000000                  1.260000       893.000000          NaN   \n",
       "75%       68.000000                  1.460000      1076.000000          NaN   \n",
       "max       74.000000                  2.000000      1783.000000          NaN   \n",
       "\n",
       "        Fat_Percentage  Water_Intake (liters)  Workout_Frequency (days/week)  \\\n",
       "count       973.000000             973.000000                     973.000000   \n",
       "unique             NaN                    NaN                            NaN   \n",
       "top                NaN                    NaN                            NaN   \n",
       "freq               NaN                    NaN                            NaN   \n",
       "mean         24.976773               2.626619                       3.321686   \n",
       "std           6.259419               0.600172                       0.913047   \n",
       "min          10.000000               1.500000                       2.000000   \n",
       "25%          21.300000               2.200000                       3.000000   \n",
       "50%          26.200000               2.600000                       3.000000   \n",
       "75%          29.300000               3.100000                       4.000000   \n",
       "max          35.000000               3.700000                       5.000000   \n",
       "\n",
       "        Experience_Level         BMI  \n",
       "count         973.000000  973.000000  \n",
       "unique               NaN         NaN  \n",
       "top                  NaN         NaN  \n",
       "freq                 NaN         NaN  \n",
       "mean            1.809866   24.912127  \n",
       "std             0.739693    6.660879  \n",
       "min             1.000000   12.320000  \n",
       "25%             1.000000   20.110000  \n",
       "50%             2.000000   24.160000  \n",
       "75%             2.000000   28.560000  \n",
       "max             3.000000   49.840000  "
      ]
     },
     "execution_count": 46,
     "metadata": {},
     "output_type": "execute_result"
    }
   ],
   "source": [
    "data.describe(include = 'all')"
   ]
  },
  {
   "cell_type": "code",
   "execution_count": 47,
   "id": "a3eb4593-1789-4cfe-aead-b9ac512cc76b",
   "metadata": {},
   "outputs": [
    {
     "data": {
      "text/plain": [
       "Age                              0.0\n",
       "Gender                           0.0\n",
       "Weight (kg)                      0.0\n",
       "Height (m)                       0.0\n",
       "Max_BPM                          0.0\n",
       "Avg_BPM                          0.0\n",
       "Resting_BPM                      0.0\n",
       "Session_Duration (hours)         0.0\n",
       "Calories_Burned                  0.0\n",
       "Workout_Type                     0.0\n",
       "Fat_Percentage                   0.0\n",
       "Water_Intake (liters)            0.0\n",
       "Workout_Frequency (days/week)    0.0\n",
       "Experience_Level                 0.0\n",
       "BMI                              0.0\n",
       "dtype: float64"
      ]
     },
     "execution_count": 47,
     "metadata": {},
     "output_type": "execute_result"
    }
   ],
   "source": [
    "data.isna().sum()/data.shape[0]"
   ]
  },
  {
   "cell_type": "code",
   "execution_count": 48,
   "id": "01766f65-71d8-484c-8a24-ca112235f388",
   "metadata": {},
   "outputs": [],
   "source": [
    "data.dropna(axis = 0, inplace = True)"
   ]
  },
  {
   "cell_type": "code",
   "execution_count": 49,
   "id": "126b36ec-61c9-4a74-b91c-bea2dcd70cd7",
   "metadata": {},
   "outputs": [
    {
     "name": "stdout",
     "output_type": "stream",
     "text": [
      "0    0\n",
      "1    1\n",
      "2    1\n",
      "3    0\n",
      "4    0\n",
      "Name: Gender, dtype: int64\n"
     ]
    },
    {
     "name": "stderr",
     "output_type": "stream",
     "text": [
      "C:\\Users\\Lucas\\AppData\\Local\\Temp\\ipykernel_12952\\1227858836.py:1: FutureWarning: A value is trying to be set on a copy of a DataFrame or Series through chained assignment using an inplace method.\n",
      "The behavior will change in pandas 3.0. This inplace method will never work because the intermediate object on which we are setting values always behaves as a copy.\n",
      "\n",
      "For example, when doing 'df[col].method(value, inplace=True)', try using 'df.method({col: value}, inplace=True)' or df[col] = df[col].method(value) instead, to perform the operation inplace on the original object.\n",
      "\n",
      "\n",
      "  data['Gender'].replace(['Male','Female'], [0,1], inplace = True)\n",
      "C:\\Users\\Lucas\\AppData\\Local\\Temp\\ipykernel_12952\\1227858836.py:1: FutureWarning: Downcasting behavior in `replace` is deprecated and will be removed in a future version. To retain the old behavior, explicitly call `result.infer_objects(copy=False)`. To opt-in to the future behavior, set `pd.set_option('future.no_silent_downcasting', True)`\n",
      "  data['Gender'].replace(['Male','Female'], [0,1], inplace = True)\n"
     ]
    }
   ],
   "source": [
    "data['Gender'].replace(['Male','Female'], [0,1], inplace = True)\n",
    "print(data['Gender'].head())"
   ]
  },
  {
   "cell_type": "code",
   "execution_count": 50,
   "id": "d83c947c-d3bf-4d73-ac12-4a3c22b96d36",
   "metadata": {},
   "outputs": [
    {
     "data": {
      "text/plain": [
       "<Axes: >"
      ]
     },
     "execution_count": 50,
     "metadata": {},
     "output_type": "execute_result"
    },
    {
     "data": {
      "image/png": "[encoded data removed]",
      "text/plain": [
       "<Figure size 1200x800 with 2 Axes>"
      ]
     },
     "metadata": {},
     "output_type": "display_data"
    }
   ],
   "source": [
    "numerical_columns = data.select_dtypes(include=('int64','float64')).columns\n",
    "\n",
    "plt.figure(figsize=(12,8))\n",
    "sns.heatmap(data[numerical_columns].corr(),annot =True)"
   ]
  },
  {
   "cell_type": "code",
   "execution_count": 51,
   "id": "a562a12f-9ac9-4f8b-b154-1beed0189ba7",
   "metadata": {},
   "outputs": [],
   "source": [
    "## Outliers"
   ]
  },
  {
   "cell_type": "code",
   "execution_count": 52,
   "id": "b7a044c7-b80b-4553-b6df-51cedf120336",
   "metadata": {},
   "outputs": [],
   "source": [
    "def outliers(data):\n",
    "    outliers_dict = {}\n",
    "    \n",
    "    for column in data.select_dtypes(include=[np.number]).columns: \n",
    "        q25, q75 = np.percentile(data[column], [25, 75])\n",
    "        iqr = q75 - q25\n",
    "        lower_bound = q25 - 1.5 * iqr\n",
    "        upper_bound = q75 + 1.5 * iqr\n",
    "\n",
    "        outliers = data[(data[column] < lower_bound) | (data[column] > upper_bound)]\n",
    "        outliers_dict[column] = outliers[column]\n",
    "    \n",
    "    return outliers_dict"
   ]
  },
  {
   "cell_type": "code",
   "execution_count": 53,
   "id": "5e30ae80-375c-406d-b3b5-3be66958fdb4",
   "metadata": {},
   "outputs": [
    {
     "name": "stdout",
     "output_type": "stream",
     "text": [
      "Voici les outliers:  {'Age': Series([], Name: Age, dtype: int64), 'Gender': Series([], Name: Gender, dtype: int64), 'Weight (kg)': 96     129.0\n",
      "122    129.5\n",
      "180    128.2\n",
      "283    128.4\n",
      "291    128.4\n",
      "593    129.9\n",
      "614    128.4\n",
      "648    127.9\n",
      "854    129.2\n",
      "Name: Weight (kg), dtype: float64, 'Height (m)': Series([], Name: Height (m), dtype: float64), 'Max_BPM': Series([], Name: Max_BPM, dtype: int64), 'Avg_BPM': Series([], Name: Avg_BPM, dtype: int64), 'Resting_BPM': Series([], Name: Resting_BPM, dtype: int64), 'Session_Duration (hours)': Series([], Name: Session_Duration (hours), dtype: float64), 'Calories_Burned': 90     1688.0\n",
      "99     1625.0\n",
      "124    1701.0\n",
      "475    1622.0\n",
      "511    1725.0\n",
      "572    1646.0\n",
      "646    1675.0\n",
      "712    1766.0\n",
      "728    1634.0\n",
      "910    1783.0\n",
      "Name: Calories_Burned, dtype: float64, 'Fat_Percentage': Series([], Name: Fat_Percentage, dtype: float64), 'Water_Intake (liters)': Series([], Name: Water_Intake (liters), dtype: float64), 'Workout_Frequency (days/week)': Series([], Name: Workout_Frequency (days/week), dtype: int64), 'Experience_Level': Series([], Name: Experience_Level, dtype: int64), 'BMI': 10     43.31\n",
      "12     43.40\n",
      "35     42.63\n",
      "55     44.84\n",
      "133    45.43\n",
      "251    45.14\n",
      "261    47.72\n",
      "291    45.49\n",
      "302    43.31\n",
      "345    44.71\n",
      "445    41.60\n",
      "470    46.90\n",
      "524    42.30\n",
      "593    43.40\n",
      "603    41.84\n",
      "687    45.14\n",
      "710    46.98\n",
      "718    41.34\n",
      "833    44.26\n",
      "854    49.84\n",
      "868    46.94\n",
      "916    41.56\n",
      "924    44.10\n",
      "936    44.66\n",
      "945    48.43\n",
      "Name: BMI, dtype: float64}\n"
     ]
    }
   ],
   "source": [
    "outliers_data = outliers(data)\n",
    "print('Voici les outliers: ', outliers_data)  "
   ]
  },
  {
   "cell_type": "code",
   "execution_count": 54,
   "id": "e336e355-b14d-4247-bdde-7e2a06aa2442",
   "metadata": {},
   "outputs": [
    {
     "name": "stdout",
     "output_type": "stream",
     "text": [
      "Outliers dans la colonne Age :\n",
      "Series([], Name: Age, dtype: int64)\n",
      "\n",
      "Outliers dans la colonne Gender :\n",
      "Series([], Name: Gender, dtype: int64)\n",
      "\n",
      "Outliers dans la colonne Weight (kg) :\n",
      "96     129.0\n",
      "122    129.5\n",
      "180    128.2\n",
      "283    128.4\n",
      "291    128.4\n",
      "593    129.9\n",
      "614    128.4\n",
      "648    127.9\n",
      "854    129.2\n",
      "Name: Weight (kg), dtype: float64\n",
      "\n",
      "Outliers dans la colonne Height (m) :\n",
      "Series([], Name: Height (m), dtype: float64)\n",
      "\n",
      "Outliers dans la colonne Max_BPM :\n",
      "Series([], Name: Max_BPM, dtype: int64)\n",
      "\n",
      "Outliers dans la colonne Avg_BPM :\n",
      "Series([], Name: Avg_BPM, dtype: int64)\n",
      "\n",
      "Outliers dans la colonne Resting_BPM :\n",
      "Series([], Name: Resting_BPM, dtype: int64)\n",
      "\n",
      "Outliers dans la colonne Session_Duration (hours) :\n",
      "Series([], Name: Session_Duration (hours), dtype: float64)\n",
      "\n",
      "Outliers dans la colonne Calories_Burned :\n",
      "90     1688.0\n",
      "99     1625.0\n",
      "124    1701.0\n",
      "475    1622.0\n",
      "511    1725.0\n",
      "572    1646.0\n",
      "646    1675.0\n",
      "712    1766.0\n",
      "728    1634.0\n",
      "910    1783.0\n",
      "Name: Calories_Burned, dtype: float64\n",
      "\n",
      "Outliers dans la colonne Fat_Percentage :\n",
      "Series([], Name: Fat_Percentage, dtype: float64)\n",
      "\n",
      "Outliers dans la colonne Water_Intake (liters) :\n",
      "Series([], Name: Water_Intake (liters), dtype: float64)\n",
      "\n",
      "Outliers dans la colonne Workout_Frequency (days/week) :\n",
      "Series([], Name: Workout_Frequency (days/week), dtype: int64)\n",
      "\n",
      "Outliers dans la colonne Experience_Level :\n",
      "Series([], Name: Experience_Level, dtype: int64)\n",
      "\n",
      "Outliers dans la colonne BMI :\n",
      "10     43.31\n",
      "12     43.40\n",
      "35     42.63\n",
      "55     44.84\n",
      "133    45.43\n",
      "251    45.14\n",
      "261    47.72\n",
      "291    45.49\n",
      "302    43.31\n",
      "345    44.71\n",
      "445    41.60\n",
      "470    46.90\n",
      "524    42.30\n",
      "593    43.40\n",
      "603    41.84\n",
      "687    45.14\n",
      "710    46.98\n",
      "718    41.34\n",
      "833    44.26\n",
      "854    49.84\n",
      "868    46.94\n",
      "916    41.56\n",
      "924    44.10\n",
      "936    44.66\n",
      "945    48.43\n",
      "Name: BMI, dtype: float64\n",
      "\n"
     ]
    }
   ],
   "source": [
    "for col, outlier_values in outliers_data.items():\n",
    "    print(f\"Outliers dans la colonne {col} :\\n{outlier_values}\\n\")"
   ]
  },
  {
   "cell_type": "markdown",
   "id": "3386bd46-44d4-465e-9831-7ccf3d01fe62",
   "metadata": {
    "jp-MarkdownHeadingCollapsed": true
   },
   "source": [
    "### Plot"
   ]
  },
  {
   "cell_type": "code",
   "execution_count": 56,
   "id": "926b1464-4c8f-4ba2-8ba4-eded6066a294",
   "metadata": {},
   "outputs": [
    {
     "name": "stdout",
     "output_type": "stream",
     "text": [
      "[0.         0.22222222 0.44444444 0.66666667 0.88888889 1.11111111\n",
      " 1.33333333 1.55555556 1.77777778 2.        ]\n"
     ]
    }
   ],
   "source": [
    "x = np.linspace (0,2,10)\n",
    "y = x**2\n",
    "print(x)"
   ]
  },
  {
   "cell_type": "code",
   "execution_count": 57,
   "id": "00829af7-9949-48ef-8462-2d8faf8ec63d",
   "metadata": {},
   "outputs": [
    {
     "data": {
      "image/png": "[encoded data removed]",
      "text/plain": [
       "<Figure size 640x480 with 1 Axes>"
      ]
     },
     "metadata": {},
     "output_type": "display_data"
    }
   ],
   "source": [
    "plt.plot(x,y, c = 'red', lw=5, ls= '--')\n",
    "plt.scatter(x,y)\n",
    "plt.show()"
   ]
  },
  {
   "cell_type": "code",
   "execution_count": 58,
   "id": "1db9ee3b-e360-47b6-bcf9-3e4e52b3e6dc",
   "metadata": {},
   "outputs": [
    {
     "data": {
      "image/png": "[encoded data removed]",
      "text/plain": [
       "<Figure size 1200x800 with 1 Axes>"
      ]
     },
     "metadata": {},
     "output_type": "display_data"
    }
   ],
   "source": [
    "plt.figure(figsize = (12,8))\n",
    "plt.plot(x,y, label = 'quadratique')\n",
    "plt.plot(x,x**3, label = 'cubique')\n",
    "plt.title('figure 1')\n",
    "plt.xlabel('Axe x')\n",
    "plt.ylabel('Axe y')\n",
    "plt.legend()\n",
    "plt.show()\n",
    "# plt.savefig('figure.png')"
   ]
  },
  {
   "cell_type": "code",
   "execution_count": 59,
   "id": "aa3e5a24-ca3c-4e53-91b6-6bf1940a8b06",
   "metadata": {},
   "outputs": [
    {
     "data": {
      "image/png": "[encoded data removed]",
      "text/plain": [
       "<Figure size 640x480 with 2 Axes>"
      ]
     },
     "metadata": {},
     "output_type": "display_data"
    }
   ],
   "source": [
    "plt.subplot(2,1,1)\n",
    "plt.plot(x,y, c= 'red')\n",
    "plt.subplot(2,1,2)\n",
    "plt.plot(x**2,y, c= 'blue')\n",
    "plt.show()"
   ]
  },
  {
   "cell_type": "markdown",
   "id": "227e3f5e-78fd-422b-a0ba-9ea7191b3c5d",
   "metadata": {
    "jp-MarkdownHeadingCollapsed": true
   },
   "source": [
    "### Sigmoide"
   ]
  },
  {
   "cell_type": "code",
   "execution_count": 61,
   "id": "1dd20f35-c22d-4919-af7b-057d2fca4012",
   "metadata": {},
   "outputs": [],
   "source": [
    "from scipy.optimize import curve_fit"
   ]
  },
  {
   "cell_type": "code",
   "execution_count": 62,
   "id": "4cf5fc06-26b2-42c8-951a-8abfcf6a3def",
   "metadata": {},
   "outputs": [
    {
     "data": {
      "text/html": [
       "<div>\n",
       "<style scoped>\n",
       "    .dataframe tbody tr th:only-of-type {\n",
       "        vertical-align: middle;\n",
       "    }\n",
       "\n",
       "    .dataframe tbody tr th {\n",
       "        vertical-align: top;\n",
       "    }\n",
       "\n",
       "    .dataframe thead th {\n",
       "        text-align: right;\n",
       "    }\n",
       "</style>\n",
       "<table border=\"1\" class=\"dataframe\">\n",
       "  <thead>\n",
       "    <tr style=\"text-align: right;\">\n",
       "      <th></th>\n",
       "      <th>Distance</th>\n",
       "      <th>Estimation</th>\n",
       "      <th>Participant</th>\n",
       "    </tr>\n",
       "  </thead>\n",
       "  <tbody>\n",
       "    <tr>\n",
       "      <th>0</th>\n",
       "      <td>2.0</td>\n",
       "      <td>0</td>\n",
       "      <td>1</td>\n",
       "    </tr>\n",
       "    <tr>\n",
       "      <th>1</th>\n",
       "      <td>8.0</td>\n",
       "      <td>1</td>\n",
       "      <td>1</td>\n",
       "    </tr>\n",
       "    <tr>\n",
       "      <th>2</th>\n",
       "      <td>7.0</td>\n",
       "      <td>1</td>\n",
       "      <td>1</td>\n",
       "    </tr>\n",
       "    <tr>\n",
       "      <th>3</th>\n",
       "      <td>1.0</td>\n",
       "      <td>0</td>\n",
       "      <td>1</td>\n",
       "    </tr>\n",
       "    <tr>\n",
       "      <th>4</th>\n",
       "      <td>3.0</td>\n",
       "      <td>0</td>\n",
       "      <td>1</td>\n",
       "    </tr>\n",
       "  </tbody>\n",
       "</table>\n",
       "</div>"
      ],
      "text/plain": [
       "   Distance  Estimation  Participant\n",
       "0       2.0           0            1\n",
       "1       8.0           1            1\n",
       "2       7.0           1            1\n",
       "3       1.0           0            1\n",
       "4       3.0           0            1"
      ]
     },
     "execution_count": 62,
     "metadata": {},
     "output_type": "execute_result"
    }
   ],
   "source": [
    "data = pd.read_csv('data.csv', sep = \";\")\n",
    "data.head()"
   ]
  },
  {
   "cell_type": "code",
   "execution_count": 63,
   "id": "0682a9e1-2445-4237-ab26-c613013e8852",
   "metadata": {},
   "outputs": [
    {
     "data": {
      "text/html": [
       "<div>\n",
       "<style scoped>\n",
       "    .dataframe tbody tr th:only-of-type {\n",
       "        vertical-align: middle;\n",
       "    }\n",
       "\n",
       "    .dataframe tbody tr th {\n",
       "        vertical-align: top;\n",
       "    }\n",
       "\n",
       "    .dataframe thead th {\n",
       "        text-align: right;\n",
       "    }\n",
       "</style>\n",
       "<table border=\"1\" class=\"dataframe\">\n",
       "  <thead>\n",
       "    <tr style=\"text-align: right;\">\n",
       "      <th></th>\n",
       "      <th>Distance</th>\n",
       "      <th>Estimation</th>\n",
       "    </tr>\n",
       "  </thead>\n",
       "  <tbody>\n",
       "    <tr>\n",
       "      <th>0</th>\n",
       "      <td>1.0</td>\n",
       "      <td>0.017501</td>\n",
       "    </tr>\n",
       "    <tr>\n",
       "      <th>1</th>\n",
       "      <td>2.0</td>\n",
       "      <td>0.020224</td>\n",
       "    </tr>\n",
       "    <tr>\n",
       "      <th>2</th>\n",
       "      <td>3.0</td>\n",
       "      <td>0.054431</td>\n",
       "    </tr>\n",
       "    <tr>\n",
       "      <th>3</th>\n",
       "      <td>4.0</td>\n",
       "      <td>0.222618</td>\n",
       "    </tr>\n",
       "    <tr>\n",
       "      <th>4</th>\n",
       "      <td>5.0</td>\n",
       "      <td>0.796657</td>\n",
       "    </tr>\n",
       "    <tr>\n",
       "      <th>5</th>\n",
       "      <td>6.0</td>\n",
       "      <td>0.959474</td>\n",
       "    </tr>\n",
       "    <tr>\n",
       "      <th>6</th>\n",
       "      <td>7.0</td>\n",
       "      <td>0.980843</td>\n",
       "    </tr>\n",
       "    <tr>\n",
       "      <th>7</th>\n",
       "      <td>8.0</td>\n",
       "      <td>0.985210</td>\n",
       "    </tr>\n",
       "  </tbody>\n",
       "</table>\n",
       "</div>"
      ],
      "text/plain": [
       "   Distance  Estimation\n",
       "0       1.0    0.017501\n",
       "1       2.0    0.020224\n",
       "2       3.0    0.054431\n",
       "3       4.0    0.222618\n",
       "4       5.0    0.796657\n",
       "5       6.0    0.959474\n",
       "6       7.0    0.980843\n",
       "7       8.0    0.985210"
      ]
     },
     "execution_count": 63,
     "metadata": {},
     "output_type": "execute_result"
    }
   ],
   "source": [
    "grouped = data.groupby(\"Distance\")[\"Estimation\"].mean().reset_index()\n",
    "x_data = grouped[\"Distance\"]\n",
    "y_data = grouped[\"Estimation\"]\n",
    "grouped"
   ]
  },
  {
   "cell_type": "code",
   "execution_count": 64,
   "id": "322e2054-15a7-44a8-b752-7255a3844d22",
   "metadata": {},
   "outputs": [],
   "source": [
    "def sigmoid(x, a, b):\n",
    "    return 1 / (1 + np.exp(-a * (x - b)))"
   ]
  },
  {
   "cell_type": "code",
   "execution_count": 65,
   "id": "ce175deb-73f7-4dde-9958-d7ff8748ec7d",
   "metadata": {},
   "outputs": [
    {
     "name": "stdout",
     "output_type": "stream",
     "text": [
      "Paramètres ajustés : a = 2.49, b = 4.48\n"
     ]
    }
   ],
   "source": [
    "# Ajustement de la courbe sigmoïde\n",
    "popt, pcov = curve_fit(sigmoid, x_data, y_data, p0=[1, 4])  # Initialisation de a et b\n",
    "\n",
    "# Paramètres ajustés\n",
    "a_fit, b_fit = popt\n",
    "print(f\"Paramètres ajustés : a = {a_fit:.2f}, b = {b_fit:.2f}\")"
   ]
  },
  {
   "cell_type": "code",
   "execution_count": 66,
   "id": "6ac55922-dec1-48c4-afe2-1a8bb3914db7",
   "metadata": {},
   "outputs": [
    {
     "data": {
      "image/png": "[encoded data removed]",
      "text/plain": [
       "<Figure size 800x600 with 1 Axes>"
      ]
     },
     "metadata": {},
     "output_type": "display_data"
    }
   ],
   "source": [
    "# Tracer la courbe ajustée\n",
    "x_fit = np.linspace(1, 8, 500)  # Points pour tracer la courbe lissée\n",
    "y_fit = sigmoid(x_fit, *popt)\n",
    "\n",
    "plt.figure(figsize=(8, 6))\n",
    "plt.scatter(x_data, y_data, color=\"blue\", label=\"Réponse moyenne par distance\")\n",
    "plt.plot(x_fit, y_fit, color=\"red\", label=\"Courbe sigmoïde ajustée\")\n",
    "plt.axvline(b_fit, color=\"green\", linestyle=\"--\", label=f\"PSE = {b_fit:.2f}\")\n",
    "plt.xlabel(\"Distance\")\n",
    "plt.ylabel(\"Réponse moyenne\")\n",
    "plt.title(\"Ajustement d'une courbe sigmoïde\")\n",
    "plt.legend()\n",
    "plt.grid(True)\n",
    "plt.show()"
   ]
  },
  {
   "cell_type": "markdown",
   "id": "3f351ea5-fb69-41e0-a704-be26d885b338",
   "metadata": {
    "jp-MarkdownHeadingCollapsed": true
   },
   "source": [
    "### Numpy "
   ]
  },
  {
   "cell_type": "code",
   "execution_count": 36,
   "id": "7bf0eb3b-9071-482a-9330-752ef7547f0c",
   "metadata": {},
   "outputs": [
    {
     "name": "stdout",
     "output_type": "stream",
     "text": [
      "[[1 2 3]\n",
      " [4 5 6]\n",
      " [7 8 9]]\n"
     ]
    }
   ],
   "source": [
    "A = np.array([[1,2,3], [4,5,6],[7,8,9]])\n",
    "print(A)"
   ]
  },
  {
   "cell_type": "code",
   "execution_count": 37,
   "id": "c8df400c-95ad-4fd3-966c-d417910bf9fd",
   "metadata": {},
   "outputs": [
    {
     "name": "stdout",
     "output_type": "stream",
     "text": [
      "2\n",
      "(3, 3)\n",
      "9\n"
     ]
    }
   ],
   "source": [
    "print(A.ndim)\n",
    "print(A.shape)\n",
    "print(A.size)"
   ]
  },
  {
   "cell_type": "code",
   "execution_count": 38,
   "id": "2a4fc733-4919-4926-8514-a7e16ae5a033",
   "metadata": {},
   "outputs": [
    {
     "name": "stdout",
     "output_type": "stream",
     "text": [
      "[1 4 7]\n",
      "[1 2 3]\n",
      "[[1 2]\n",
      " [4 5]]\n"
     ]
    }
   ],
   "source": [
    "print(A[:,0])\n",
    "print(A[0,:])\n",
    "print(A[0:2, 0:2])"
   ]
  },
  {
   "cell_type": "markdown",
   "id": "777c499e-b951-4fcb-92c9-b95b06638085",
   "metadata": {
    "jp-MarkdownHeadingCollapsed": true
   },
   "source": [
    "### Analyse du mouvement"
   ]
  },
  {
   "cell_type": "code",
   "execution_count": 68,
   "id": "de25efca-91f7-4912-869c-00ec683c59f9",
   "metadata": {},
   "outputs": [],
   "source": [
    "shoulder = np.array([[0, 0, 0], [1, 0, 0], [2, 1, 0], [3, 1, 1], [4, 1, 1]])\n",
    "wrist = np.array([[1, 1, 0], [2, 2, 0], [3, 3, 1], [4, 3, 1], [5, 4, 2]])"
   ]
  },
  {
   "cell_type": "code",
   "execution_count": 69,
   "id": "8ebd509e-f413-4ad3-9cdb-339dd130311a",
   "metadata": {},
   "outputs": [],
   "source": [
    "def calculate_velocity(positions, time_interval=1.0):\n",
    "    velocities = np.diff(positions, axis=0) / time_interval  # Différences successives\n",
    "    speeds = np.linalg.norm(velocities, axis=1)  # Norme de la vitesse\n",
    "    return velocities, speeds"
   ]
  },
  {
   "cell_type": "code",
   "execution_count": 70,
   "id": "40b40f39-fb97-4a97-a2fb-eabdeeac1731",
   "metadata": {},
   "outputs": [],
   "source": [
    "velocities_shoulder, speeds_shoulder = calculate_velocity(shoulder)\n",
    "velocities_wrist, speeds_wrist = calculate_velocity(wrist)"
   ]
  },
  {
   "cell_type": "code",
   "execution_count": 71,
   "id": "344c5c4a-1328-42d0-b524-fc20c29a4fe1",
   "metadata": {},
   "outputs": [
    {
     "name": "stdout",
     "output_type": "stream",
     "text": [
      "[[1. 0. 0.]\n",
      " [1. 1. 0.]\n",
      " [1. 0. 1.]\n",
      " [1. 0. 0.]]\n",
      "[1.         1.41421356 1.41421356 1.        ]\n"
     ]
    }
   ],
   "source": [
    "print(velocities_shoulder)\n",
    "print(speeds_shoulder)"
   ]
  },
  {
   "cell_type": "code",
   "execution_count": 72,
   "id": "31b66ca1-e35d-4ac3-829e-dc77e5790af0",
   "metadata": {},
   "outputs": [
    {
     "name": "stdout",
     "output_type": "stream",
     "text": [
      "[[1. 1. 0.]\n",
      " [1. 1. 1.]\n",
      " [1. 0. 0.]\n",
      " [1. 1. 1.]]\n",
      "[1.41421356 1.73205081 1.         1.73205081]\n"
     ]
    }
   ],
   "source": [
    "print(velocities_wrist)\n",
    "print(speeds_wrist)"
   ]
  },
  {
   "cell_type": "code",
   "execution_count": 73,
   "id": "cc15d10f-9964-40e8-ae12-701a9938ae01",
   "metadata": {},
   "outputs": [],
   "source": [
    "def calculate_angle(segment1, segment2):\n",
    "    dot_product = np.sum(segment1 * segment2, axis=1)  # Produit scalaire\n",
    "    norms = np.linalg.norm(segment1, axis=1) * np.linalg.norm(segment2, axis=1)\n",
    "    cos_angle = np.clip(dot_product / norms, -1.0, 1.0)  # Éviter les erreurs numériques\n",
    "    angles = np.arccos(cos_angle) * (180 / np.pi)  # Convertir en degrés\n",
    "    return angles"
   ]
  },
  {
   "cell_type": "code",
   "execution_count": 74,
   "id": "cbe7c06d-b4a2-4757-97d0-b4eb5bfd399d",
   "metadata": {},
   "outputs": [],
   "source": [
    "relative_positions = wrist - shoulder  # Vecteurs reliant les segments\n",
    "angles = calculate_angle(relative_positions[:-1], relative_positions[1:])"
   ]
  },
  {
   "cell_type": "code",
   "execution_count": 75,
   "id": "aa38bb65-7975-46eb-9060-16ba93148364",
   "metadata": {},
   "outputs": [
    {
     "name": "stdout",
     "output_type": "stream",
     "text": [
      "[18.43494882 24.09484255 24.09484255 19.28632541]\n"
     ]
    }
   ],
   "source": [
    "print(angles)"
   ]
  },
  {
   "cell_type": "code",
   "execution_count": 76,
   "id": "a28d8bdc-b33a-4b49-a763-885cbc4fc3f4",
   "metadata": {},
   "outputs": [],
   "source": [
    "#%matplotlib qt\n",
    "from mpl_toolkits.mplot3d import Axes3D"
   ]
  },
  {
   "cell_type": "code",
   "execution_count": 77,
   "id": "4a84dce2-85e8-4ec6-ad8a-78e163f2985b",
   "metadata": {},
   "outputs": [],
   "source": [
    "def plot_trajectory(segment1, segment2):\n",
    "    fig = plt.figure(figsize=(8, 6))\n",
    "    ax = fig.add_subplot(111, projection='3d')\n",
    "    ax.plot(segment1[:, 0], segment1[:, 1], segment1[:, 2], label=\"Segment 1 (épaule)\", marker='o')\n",
    "    ax.plot(segment2[:, 0], segment2[:, 1], segment2[:, 2], label=\"Segment 2 (poignet)\", marker='x')\n",
    "    ax.set_xlabel('X')\n",
    "    ax.set_ylabel('Y')\n",
    "    ax.set_zlabel('Z')\n",
    "    ax.legend()\n",
    "    plt.title(\"Trajectoire 3D\")\n",
    "    plt.show()"
   ]
  },
  {
   "cell_type": "code",
   "execution_count": 78,
   "id": "3eef56de-d260-441f-b6d7-89c6af749fe4",
   "metadata": {},
   "outputs": [],
   "source": [
    "plot_trajectory(shoulder, wrist)"
   ]
  },
  {
   "cell_type": "code",
   "execution_count": 79,
   "id": "286c7b05-1666-420c-a868-8e1a8827f63d",
   "metadata": {},
   "outputs": [],
   "source": [
    "def plot_beautiful_trajectory(shoulder, wrist):\n",
    "    fig = plt.figure(figsize=(10, 8))\n",
    "    ax = fig.add_subplot(111, projection='3d')\n",
    "\n",
    "    # Génération d'un dégradé de couleurs pour indiquer le temps\n",
    "    time_steps = np.linspace(0, 1, shoulder.shape[0])  # Normaliser le temps entre 0 et 1\n",
    "    colors = plt.cm.viridis(time_steps)  # Dégradé de couleurs\n",
    "\n",
    "    # Tracé de la trajectoire de l'épaule\n",
    "    for i in range(shoulder.shape[0] - 1):\n",
    "        ax.plot(\n",
    "            shoulder[i:i + 2, 0], shoulder[i:i + 2, 1], shoulder[i:i + 2, 2],\n",
    "            color=colors[i], linewidth=2.5, label=\"Épaule\" if i == 0 else \"\"\n",
    "        )\n",
    "\n",
    "    # Tracé de la trajectoire du poignet\n",
    "    for i in range(wrist.shape[0] - 1):\n",
    "        ax.plot(\n",
    "            wrist[i:i + 2, 0], wrist[i:i + 2, 1], wrist[i:i + 2, 2],\n",
    "            color=colors[i], linestyle='--', linewidth=2, label=\"Poignet\" if i == 0 else \"\"\n",
    "        )\n",
    "\n",
    "    # Points de départ et de fin\n",
    "    ax.scatter(shoulder[0, 0], shoulder[0, 1], shoulder[0, 2], color='blue', label='Départ', s=100)\n",
    "    ax.scatter(wrist[0, 0], wrist[0, 1], wrist[0, 2], color='red', label='Départ poignet', s=100)\n",
    "    ax.scatter(shoulder[-1, 0], shoulder[-1, 1], shoulder[-1, 2], color='cyan', label='Fin épaule', s=100)\n",
    "    ax.scatter(wrist[-1, 0], wrist[-1, 1], wrist[-1, 2], color='magenta', label='Fin poignet', s=100)\n",
    "\n",
    "    # Configuration esthétique\n",
    "    ax.set_xlabel('X (m)', fontsize=12)\n",
    "    ax.set_ylabel('Y (m)', fontsize=12)\n",
    "    ax.set_zlabel('Z (m)', fontsize=12)\n",
    "    ax.set_title('Trajectoires 3D des segments corporels', fontsize=15, fontweight='bold')\n",
    "    ax.legend(loc='upper left', fontsize=10)\n",
    "    ax.grid(True, linestyle='--', alpha=0.6)\n",
    "\n",
    "    # Ajustement de la vue 3D\n",
    "    ax.view_init(elev=25, azim=135)  # Angle de vue dynamique\n",
    "\n",
    "    plt.tight_layout()\n",
    "    plt.show()\n",
    "\n",
    "# --- Visualiser les trajectoires améliorées ---\n",
    "plot_beautiful_trajectory(shoulder, wrist)"
   ]
  },
  {
   "cell_type": "code",
   "execution_count": 80,
   "id": "808ed6a6-e8e0-4fce-ae15-402bf5f5947e",
   "metadata": {},
   "outputs": [],
   "source": [
    "## Cluster / profil"
   ]
  },
  {
   "cell_type": "code",
   "execution_count": 81,
   "id": "e935d628-da2a-4a15-9ec3-ce2233921839",
   "metadata": {},
   "outputs": [
    {
     "data": {
      "text/html": [
       "<div>\n",
       "<style scoped>\n",
       "    .dataframe tbody tr th:only-of-type {\n",
       "        vertical-align: middle;\n",
       "    }\n",
       "\n",
       "    .dataframe tbody tr th {\n",
       "        vertical-align: top;\n",
       "    }\n",
       "\n",
       "    .dataframe thead th {\n",
       "        text-align: right;\n",
       "    }\n",
       "</style>\n",
       "<table border=\"1\" class=\"dataframe\">\n",
       "  <thead>\n",
       "    <tr style=\"text-align: right;\">\n",
       "      <th></th>\n",
       "      <th>Participant_ID</th>\n",
       "      <th>Phase</th>\n",
       "      <th>Position_moyenne_X</th>\n",
       "      <th>Position_moyenne_Y</th>\n",
       "      <th>Position_moyenne_Z</th>\n",
       "      <th>Vitesse_moyenne</th>\n",
       "      <th>Accélération_moyenne</th>\n",
       "    </tr>\n",
       "  </thead>\n",
       "  <tbody>\n",
       "    <tr>\n",
       "      <th>0</th>\n",
       "      <td>1</td>\n",
       "      <td>Préparation</td>\n",
       "      <td>-0.125</td>\n",
       "      <td>0.451</td>\n",
       "      <td>0.732</td>\n",
       "      <td>1.278</td>\n",
       "      <td>0.318</td>\n",
       "    </tr>\n",
       "    <tr>\n",
       "      <th>1</th>\n",
       "      <td>1</td>\n",
       "      <td>Déplacement initial</td>\n",
       "      <td>-0.344</td>\n",
       "      <td>-0.442</td>\n",
       "      <td>0.866</td>\n",
       "      <td>1.282</td>\n",
       "      <td>1.091</td>\n",
       "    </tr>\n",
       "    <tr>\n",
       "      <th>2</th>\n",
       "      <td>1</td>\n",
       "      <td>Correction</td>\n",
       "      <td>-0.479</td>\n",
       "      <td>0.470</td>\n",
       "      <td>0.832</td>\n",
       "      <td>0.582</td>\n",
       "      <td>0.355</td>\n",
       "    </tr>\n",
       "    <tr>\n",
       "      <th>3</th>\n",
       "      <td>1</td>\n",
       "      <td>Atteinte finale</td>\n",
       "      <td>-0.317</td>\n",
       "      <td>-0.196</td>\n",
       "      <td>0.525</td>\n",
       "      <td>0.978</td>\n",
       "      <td>0.508</td>\n",
       "    </tr>\n",
       "    <tr>\n",
       "      <th>4</th>\n",
       "      <td>2</td>\n",
       "      <td>Préparation</td>\n",
       "      <td>0.112</td>\n",
       "      <td>-0.361</td>\n",
       "      <td>0.292</td>\n",
       "      <td>0.859</td>\n",
       "      <td>0.738</td>\n",
       "    </tr>\n",
       "    <tr>\n",
       "      <th>5</th>\n",
       "      <td>2</td>\n",
       "      <td>Déplacement initial</td>\n",
       "      <td>0.285</td>\n",
       "      <td>-0.300</td>\n",
       "      <td>0.514</td>\n",
       "      <td>1.266</td>\n",
       "      <td>0.165</td>\n",
       "    </tr>\n",
       "    <tr>\n",
       "      <th>6</th>\n",
       "      <td>2</td>\n",
       "      <td>Correction</td>\n",
       "      <td>0.108</td>\n",
       "      <td>-0.329</td>\n",
       "      <td>0.065</td>\n",
       "      <td>1.908</td>\n",
       "      <td>1.452</td>\n",
       "    </tr>\n",
       "    <tr>\n",
       "      <th>7</th>\n",
       "      <td>2</td>\n",
       "      <td>Atteinte finale</td>\n",
       "      <td>0.308</td>\n",
       "      <td>-0.195</td>\n",
       "      <td>0.098</td>\n",
       "      <td>1.432</td>\n",
       "      <td>0.716</td>\n",
       "    </tr>\n",
       "    <tr>\n",
       "      <th>8</th>\n",
       "      <td>3</td>\n",
       "      <td>Préparation</td>\n",
       "      <td>-0.378</td>\n",
       "      <td>-0.005</td>\n",
       "      <td>0.034</td>\n",
       "      <td>1.837</td>\n",
       "      <td>0.462</td>\n",
       "    </tr>\n",
       "    <tr>\n",
       "      <th>9</th>\n",
       "      <td>3</td>\n",
       "      <td>Déplacement initial</td>\n",
       "      <td>0.163</td>\n",
       "      <td>-0.188</td>\n",
       "      <td>0.520</td>\n",
       "      <td>1.184</td>\n",
       "      <td>0.359</td>\n",
       "    </tr>\n",
       "  </tbody>\n",
       "</table>\n",
       "</div>"
      ],
      "text/plain": [
       "   Participant_ID                Phase  Position_moyenne_X  \\\n",
       "0               1          Préparation              -0.125   \n",
       "1               1  Déplacement initial              -0.344   \n",
       "2               1           Correction              -0.479   \n",
       "3               1      Atteinte finale              -0.317   \n",
       "4               2          Préparation               0.112   \n",
       "5               2  Déplacement initial               0.285   \n",
       "6               2           Correction               0.108   \n",
       "7               2      Atteinte finale               0.308   \n",
       "8               3          Préparation              -0.378   \n",
       "9               3  Déplacement initial               0.163   \n",
       "\n",
       "   Position_moyenne_Y  Position_moyenne_Z  Vitesse_moyenne  \\\n",
       "0               0.451               0.732            1.278   \n",
       "1              -0.442               0.866            1.282   \n",
       "2               0.470               0.832            0.582   \n",
       "3              -0.196               0.525            0.978   \n",
       "4              -0.361               0.292            0.859   \n",
       "5              -0.300               0.514            1.266   \n",
       "6              -0.329               0.065            1.908   \n",
       "7              -0.195               0.098            1.432   \n",
       "8              -0.005               0.034            1.837   \n",
       "9              -0.188               0.520            1.184   \n",
       "\n",
       "   Accélération_moyenne  \n",
       "0                 0.318  \n",
       "1                 1.091  \n",
       "2                 0.355  \n",
       "3                 0.508  \n",
       "4                 0.738  \n",
       "5                 0.165  \n",
       "6                 1.452  \n",
       "7                 0.716  \n",
       "8                 0.462  \n",
       "9                 0.359  "
      ]
     },
     "execution_count": 81,
     "metadata": {},
     "output_type": "execute_result"
    }
   ],
   "source": [
    "# Fix random seed for reproducibility\n",
    "np.random.seed(42)\n",
    "\n",
    "# Define parameters\n",
    "num_participants = 50\n",
    "phases = [\"Préparation\", \"Déplacement initial\", \"Correction\", \"Atteinte finale\"]\n",
    "data = []\n",
    "\n",
    "# Generate simulated data\n",
    "for participant_id in range(1, num_participants + 1):\n",
    "    for phase in phases:\n",
    "        position_x = np.random.uniform(-0.5, 0.5)  # Random positions between -0.5 and 0.5 meters\n",
    "        position_y = np.random.uniform(-0.5, 0.5)\n",
    "        position_z = np.random.uniform(0.0, 1.0)   # Z-axis (height) between 0.0 and 1.0 meters\n",
    "        velocity = np.random.uniform(0.2, 2.0)     # Random velocity between 0.2 and 2.0 m/s\n",
    "        acceleration = np.random.uniform(0.1, 1.5) # Random acceleration between 0.1 and 1.5 m/s²\n",
    "\n",
    "        data.append({\n",
    "            \"Participant_ID\": participant_id,\n",
    "            \"Phase\": phase,\n",
    "            \"Position_moyenne_X\": round(position_x, 3),\n",
    "            \"Position_moyenne_Y\": round(position_y, 3),\n",
    "            \"Position_moyenne_Z\": round(position_z, 3),\n",
    "            \"Vitesse_moyenne\": round(velocity, 3),\n",
    "            \"Accélération_moyenne\": round(acceleration, 3),\n",
    "        })\n",
    "\n",
    "# Convert to DataFrame\n",
    "df = pd.DataFrame(data)\n",
    "df.head(10)"
   ]
  },
  {
   "cell_type": "code",
   "execution_count": 82,
   "id": "0153b3d4-349f-43e1-8cee-b7a00223d39a",
   "metadata": {},
   "outputs": [
    {
     "name": "stderr",
     "output_type": "stream",
     "text": [
      "C:\\Users\\Lucas\\anaconda3\\Lib\\site-packages\\sklearn\\cluster\\_kmeans.py:1429: UserWarning: KMeans is known to have a memory leak on Windows with MKL, when there are less chunks than available threads. You can avoid it by setting the environment variable OMP_NUM_THREADS=1.\n",
      "  warnings.warn(\n",
      "C:\\Users\\Lucas\\anaconda3\\Lib\\site-packages\\sklearn\\cluster\\_kmeans.py:1429: UserWarning: KMeans is known to have a memory leak on Windows with MKL, when there are less chunks than available threads. You can avoid it by setting the environment variable OMP_NUM_THREADS=1.\n",
      "  warnings.warn(\n",
      "C:\\Users\\Lucas\\anaconda3\\Lib\\site-packages\\sklearn\\cluster\\_kmeans.py:1429: UserWarning: KMeans is known to have a memory leak on Windows with MKL, when there are less chunks than available threads. You can avoid it by setting the environment variable OMP_NUM_THREADS=1.\n",
      "  warnings.warn(\n",
      "C:\\Users\\Lucas\\anaconda3\\Lib\\site-packages\\sklearn\\cluster\\_kmeans.py:1429: UserWarning: KMeans is known to have a memory leak on Windows with MKL, when there are less chunks than available threads. You can avoid it by setting the environment variable OMP_NUM_THREADS=1.\n",
      "  warnings.warn(\n"
     ]
    }
   ],
   "source": [
    "import matplotlib.pyplot as plt\n",
    "from sklearn.cluster import KMeans\n",
    "\n",
    "# Prepare data for clustering and visualization\n",
    "kmeans_results = {}\n",
    "\n",
    "# Perform K-Means clustering for each phase\n",
    "for phase in phases:\n",
    "    phase_data = df[df[\"Phase\"] == phase][[\"Vitesse_moyenne\", \"Accélération_moyenne\"]]\n",
    "    \n",
    "    # Apply K-Means with k=2\n",
    "    kmeans = KMeans(n_clusters=2, random_state=42)\n",
    "    df.loc[df[\"Phase\"] == phase, \"Cluster\"] = kmeans.fit_predict(phase_data)\n",
    "    kmeans_results[phase] = kmeans\n",
    "\n",
    "    # Plot results\n",
    "    plt.figure(figsize=(8, 6))\n",
    "    plt.scatter(\n",
    "        phase_data[\"Vitesse_moyenne\"],\n",
    "        phase_data[\"Accélération_moyenne\"],\n",
    "        c=kmeans.labels_,\n",
    "        cmap=\"viridis\",\n",
    "        s=100,\n",
    "        alpha=0.7,\n",
    "    )\n",
    "    plt.scatter(\n",
    "        kmeans.cluster_centers_[:, 0],\n",
    "        kmeans.cluster_centers_[:, 1],\n",
    "        c=\"red\",\n",
    "        s=200,\n",
    "        marker=\"X\",\n",
    "        label=\"Centroides\"\n",
    "    )\n",
    "    plt.title(f\"K-Means Clustering (Phase: {phase})\")\n",
    "    plt.xlabel(\"Vitesse Moyenne (m/s)\")\n",
    "    plt.ylabel(\"Accélération Moyenne (m/s²)\")\n",
    "    plt.legend()\n",
    "    plt.grid(True)\n",
    "    plt.show()"
   ]
  },
  {
   "cell_type": "code",
   "execution_count": 83,
   "id": "0925d5fb-4f30-4ebe-b72d-20971764979d",
   "metadata": {},
   "outputs": [],
   "source": [
    "from scipy.cluster.hierarchy import dendrogram, linkage\n",
    "from sklearn.preprocessing import StandardScaler\n",
    "\n",
    "# Standardize the data (important for hierarchical clustering)\n",
    "scaler = StandardScaler()\n",
    "\n",
    "for phase in phases:\n",
    "    phase_data = df[df[\"Phase\"] == phase][[\"Vitesse_moyenne\", \"Accélération_moyenne\"]]\n",
    "    scaled_data = scaler.fit_transform(phase_data)\n",
    "    \n",
    "    # Perform hierarchical clustering\n",
    "    linkage_matrix = linkage(scaled_data, method=\"ward\")\n",
    "    \n",
    "    # Plot dendrogram\n",
    "    plt.figure(figsize=(10, 6))\n",
    "    dendrogram(linkage_matrix, labels=df[df[\"Phase\"] == phase][\"Participant_ID\"].values, leaf_rotation=90, leaf_font_size=10)\n",
    "    plt.title(f\"Dendrogramme des Clusters Hiérarchiques (Phase: {phase})\")\n",
    "    plt.xlabel(\"Participant ID\")\n",
    "    plt.ylabel(\"Distance Euclidienne\")\n",
    "    plt.grid(True)\n",
    "    plt.show()"
   ]
  },
  {
   "cell_type": "code",
   "execution_count": 84,
   "id": "54162f08-4ae9-4d62-a995-245864cdaeb2",
   "metadata": {},
   "outputs": [],
   "source": [
    "# Create a single figure for all dendrograms\n",
    "fig, axes = plt.subplots(2, 2, figsize=(16, 12))\n",
    "axes = axes.flatten()\n",
    "\n",
    "for i, phase in enumerate(phases):\n",
    "    phase_data = df[df[\"Phase\"] == phase][[\"Vitesse_moyenne\", \"Accélération_moyenne\"]]\n",
    "    scaled_data = scaler.fit_transform(phase_data)\n",
    "    \n",
    "    # Perform hierarchical clustering\n",
    "    linkage_matrix = linkage(scaled_data, method=\"ward\")\n",
    "    \n",
    "    # Plot dendrogram on the corresponding subplot\n",
    "    dendrogram(\n",
    "        linkage_matrix,\n",
    "        labels=df[df[\"Phase\"] == phase][\"Participant_ID\"].values,\n",
    "        leaf_rotation=90,\n",
    "        leaf_font_size=10,\n",
    "        ax=axes[i],\n",
    "    )\n",
    "    axes[i].set_title(f\"Dendrogramme (Phase: {phase})\")\n",
    "    axes[i].set_xlabel(\"Participant ID\")\n",
    "    axes[i].set_ylabel(\"Distance Euclidienne\")\n",
    "    axes[i].grid(True)\n",
    "\n",
    "# Adjust layout for better spacing\n",
    "plt.tight_layout()\n",
    "plt.show()"
   ]
  },
  {
   "cell_type": "markdown",
   "id": "b0919cb3-c8f6-4c35-ba99-36d7a3fea634",
   "metadata": {
    "jp-MarkdownHeadingCollapsed": true
   },
   "source": [
    "### Neuro"
   ]
  },
  {
   "cell_type": "code",
   "execution_count": 86,
   "id": "82e1a894-e42b-4fc5-a09c-dda7bb07134b",
   "metadata": {},
   "outputs": [],
   "source": [
    "from nilearn import plotting\n",
    "from nilearn.datasets import fetch_surf_fsaverage"
   ]
  },
  {
   "cell_type": "code",
   "execution_count": 87,
   "id": "1a4a8e1d-9e9f-457f-b49f-c2db4775f0da",
   "metadata": {},
   "outputs": [
    {
     "name": "stdout",
     "output_type": "stream",
     "text": [
      "Requirement already satisfied: nilearn in c:\\users\\lucas\\anaconda3\\lib\\site-packages (0.11.1)\n",
      "Requirement already satisfied: joblib>=1.2.0 in c:\\users\\lucas\\anaconda3\\lib\\site-packages (from nilearn) (1.4.2)\n",
      "Requirement already satisfied: lxml in c:\\users\\lucas\\anaconda3\\lib\\site-packages (from nilearn) (5.2.1)\n",
      "Requirement already satisfied: nibabel>=5.2.0 in c:\\users\\lucas\\anaconda3\\lib\\site-packages (from nilearn) (5.3.2)\n",
      "Requirement already satisfied: numpy>=1.22.4 in c:\\users\\lucas\\anaconda3\\lib\\site-packages (from nilearn) (1.26.4)\n",
      "Requirement already satisfied: packaging in c:\\users\\lucas\\anaconda3\\lib\\site-packages (from nilearn) (24.1)\n",
      "Requirement already satisfied: pandas>=2.2.0 in c:\\users\\lucas\\anaconda3\\lib\\site-packages (from nilearn) (2.2.2)\n",
      "Requirement already satisfied: requests>=2.25.0 in c:\\users\\lucas\\anaconda3\\lib\\site-packages (from nilearn) (2.32.3)\n",
      "Requirement already satisfied: scikit-learn>=1.4.0 in c:\\users\\lucas\\anaconda3\\lib\\site-packages (from nilearn) (1.5.1)\n",
      "Requirement already satisfied: scipy>=1.8.0 in c:\\users\\lucas\\anaconda3\\lib\\site-packages (from nilearn) (1.13.1)\n",
      "Requirement already satisfied: typing-extensions>=4.6 in c:\\users\\lucas\\anaconda3\\lib\\site-packages (from nibabel>=5.2.0->nilearn) (4.11.0)\n",
      "Requirement already satisfied: python-dateutil>=2.8.2 in c:\\users\\lucas\\anaconda3\\lib\\site-packages (from pandas>=2.2.0->nilearn) (2.9.0.post0)\n",
      "Requirement already satisfied: pytz>=2020.1 in c:\\users\\lucas\\anaconda3\\lib\\site-packages (from pandas>=2.2.0->nilearn) (2024.1)\n",
      "Requirement already satisfied: tzdata>=2022.7 in c:\\users\\lucas\\anaconda3\\lib\\site-packages (from pandas>=2.2.0->nilearn) (2023.3)\n",
      "Requirement already satisfied: charset-normalizer<4,>=2 in c:\\users\\lucas\\anaconda3\\lib\\site-packages (from requests>=2.25.0->nilearn) (3.3.2)\n",
      "Requirement already satisfied: idna<4,>=2.5 in c:\\users\\lucas\\anaconda3\\lib\\site-packages (from requests>=2.25.0->nilearn) (3.7)\n",
      "Requirement already satisfied: urllib3<3,>=1.21.1 in c:\\users\\lucas\\anaconda3\\lib\\site-packages (from requests>=2.25.0->nilearn) (2.2.3)\n",
      "Requirement already satisfied: certifi>=2017.4.17 in c:\\users\\lucas\\anaconda3\\lib\\site-packages (from requests>=2.25.0->nilearn) (2024.8.30)\n",
      "Requirement already satisfied: threadpoolctl>=3.1.0 in c:\\users\\lucas\\anaconda3\\lib\\site-packages (from scikit-learn>=1.4.0->nilearn) (3.5.0)\n",
      "Requirement already satisfied: six>=1.5 in c:\\users\\lucas\\anaconda3\\lib\\site-packages (from python-dateutil>=2.8.2->pandas>=2.2.0->nilearn) (1.16.0)\n"
     ]
    },
    {
     "name": "stderr",
     "output_type": "stream",
     "text": [
      "WARNING: Ignoring invalid distribution ~atplotlib (C:\\Users\\Lucas\\anaconda3\\Lib\\site-packages)\n",
      "WARNING: Ignoring invalid distribution ~atplotlib (C:\\Users\\Lucas\\anaconda3\\Lib\\site-packages)\n",
      "WARNING: Ignoring invalid distribution ~atplotlib (C:\\Users\\Lucas\\anaconda3\\Lib\\site-packages)\n"
     ]
    }
   ],
   "source": [
    "#!pip install nilearn"
   ]
  },
  {
   "cell_type": "code",
   "execution_count": 88,
   "id": "b07d23eb-0ac0-4896-9ff3-056ec52daade",
   "metadata": {},
   "outputs": [],
   "source": [
    "regions = [\n",
    "    \"Frontal Lobe\", \"Parietal Lobe\", \"Occipital Lobe\", \n",
    "    \"Temporal Lobe\", \"Cerebellum\", \"Brainstem\"\n",
    "]\n",
    "\n",
    "# Simuler des niveaux d'activation et des données EMG\n",
    "activation_levels = np.random.rand(len(regions)) * 100  # Intensité entre 0 et 100\n",
    "emg_levels = np.random.rand(len(regions)) * 10  # Valeurs EMG arbitraires entre 0 et 10\n",
    "\n",
    "# Construire le DataFrame\n",
    "df = pd.DataFrame({\n",
    "    \"Region\": regions,\n",
    "    \"Activation_Level\": activation_levels,\n",
    "    \"EMG_Level\": emg_levels\n",
    "})"
   ]
  },
  {
   "cell_type": "code",
   "execution_count": 89,
   "id": "81908ab2-f3e1-474f-8a20-2e0e0228c036",
   "metadata": {},
   "outputs": [],
   "source": [
    "# Charger un modèle de cerveau de Nilearn pour la visualisation\n",
    "fsaverage = fetch_surf_fsaverage()\n",
    "texture = np.random.rand(10242)  # Simuler une texture pour le cerveau\n",
    "\n",
    "# Mapper les activations sur la texture (simplifié ici avec une simulation)\n",
    "region_to_vertex = {  # Simple correspondance simulée pour les vertex\n",
    "    \"Frontal Lobe\": slice(0, 2000),\n",
    "    \"Parietal Lobe\": slice(2000, 4000),\n",
    "    \"Occipital Lobe\": slice(4000, 6000),\n",
    "    \"Temporal Lobe\": slice(6000, 8000),\n",
    "    \"Cerebellum\": slice(8000, 9000),\n",
    "    \"Brainstem\": slice(9000, 10242),\n",
    "}\n",
    "for region, indices in region_to_vertex.items():\n",
    "    activation = df.loc[df['Region'] == region, 'Activation_Level'].values[0]\n",
    "    texture[indices] = activation / 100  # Normalisation entre 0 et 1"
   ]
  },
  {
   "cell_type": "code",
   "execution_count": 90,
   "id": "398aac77-2d17-4905-92eb-d58c6b39dd96",
   "metadata": {},
   "outputs": [],
   "source": [
    "# Visualisation des activations sur un schéma cérébral\n",
    "plotting.plot_surf_stat_map(\n",
    "    fsaverage['infl_left'], \n",
    "    texture, \n",
    "    hemi='left', \n",
    "    colorbar=True, \n",
    "    title=\"Activation Neurale (Hémisphère Gauche)\"\n",
    ")\n",
    "plotting.plot_surf_stat_map(\n",
    "    fsaverage['infl_right'], \n",
    "    texture, \n",
    "    hemi='right', \n",
    "    colorbar=True, \n",
    "    title=\"Activation Neurale (Hémisphère Droit)\"\n",
    ")\n",
    "\n",
    "plotting.show()  # Affichage de la visualisation"
   ]
  },
  {
   "cell_type": "code",
   "execution_count": 171,
   "id": "37b3e4cf-5396-4e6d-8aba-29005c57d4e5",
   "metadata": {},
   "outputs": [],
   "source": [
    "# Charger les données du cerveau de fsaverage\n",
    "fsaverage = fetch_surf_fsaverage()\n",
    "\n",
    "# Créer une texture simulée pour les activations\n",
    "texture = np.zeros(10242)  # Texture de base (10242 points pour le cerveau)\n",
    "\n",
    "# Définir les indices correspondant au lobe frontal et au cortex moteur\n",
    "# Ces indices sont des approximations simplifiées.\n",
    "region_to_vertex = {\n",
    "    \"Frontal Lobe\": slice(1000, 1050),\n",
    "    \"Motor Cortex\": slice(4950, 5000),  # Cortex moteur approximatif\n",
    "}\n",
    "\n",
    "# Simuler une suractivation dans ces régions (valeurs élevées)\n",
    "texture[region_to_vertex[\"Frontal Lobe\"]] = 0.9  # Activation élevée du lobe frontal\n",
    "texture[region_to_vertex[\"Motor Cortex\"]] = 0.9  # Activation élevée du cortex moteur\n",
    "\n",
    "# Visualisation des activations avec une palette de couleurs scientifique\n",
    "plotting.plot_surf_stat_map(\n",
    "    fsaverage['infl_left'], \n",
    "    texture, \n",
    "    hemi='left', \n",
    "    colorbar=True, \n",
    "    title=\"Suractivation du Lobe Frontal et Cortex Moteur (Hémisphère Gauche)\",\n",
    "    threshold=0.5,  # Seulement afficher les activations supérieures à un certain seuil\n",
    "    cmap='cold_hot'  # Utilisation d'une palette scientifique\n",
    ")\n",
    "\n",
    "plotting.plot_surf_stat_map(\n",
    "    fsaverage['infl_right'], \n",
    "    texture, \n",
    "    hemi='right', \n",
    "    colorbar=True, \n",
    "    title=\"Suractivation du Lobe Frontal et Cortex Moteur (Hémisphère Droit)\",\n",
    "    threshold=0.5,  # Seulement afficher les activations supérieures à un certain seuil\n",
    "    cmap='cold_hot'  # Utilisation d'une palette scientifique\n",
    ")\n",
    "\n",
    "plotting.show()  # Afficher la visualisation"
   ]
  },
  {
   "cell_type": "markdown",
   "id": "2537ea8d-5f2c-4dfd-85e2-de08ec9b4a03",
   "metadata": {},
   "source": [
    "### Exercice final"
   ]
  },
  {
   "cell_type": "code",
   "execution_count": 93,
   "id": "cdeb1b7e-14bd-4f36-a6b1-b56b643d57bb",
   "metadata": {},
   "outputs": [],
   "source": [
    "# Importer votre dataset\n",
    "# Préparer les données\n",
    "# Visualiser les données \n",
    "# Demander à Chat GPT de vous donner un code pour réaliser une analyse\n",
    "# Appliquer correctement le code\n",
    "# Proposer un graphique et l'enregistrer"
   ]
  }
 ],
 "metadata": {
  "kernelspec": {
   "display_name": "Python 3 (ipykernel)",
   "language": "python",
   "name": "python3"
  },
  "language_info": {
   "codemirror_mode": {
    "name": "ipython",
    "version": 3
   },
   "file_extension": ".py",
   "mimetype": "text/x-python",
   "name": "python",
   "nbconvert_exporter": "python",
   "pygments_lexer": "ipython3",
   "version": "3.12.7"
  }
 },
 "nbformat": 4,
 "nbformat_minor": 5
}

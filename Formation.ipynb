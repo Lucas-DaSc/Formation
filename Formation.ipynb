{
 "cells": [
  {
   "cell_type": "markdown",
   "id": "b57de7e7-f7da-499c-b254-586ce484a4f9",
   "metadata": {},
   "source": [
    "# Apprendre python "
   ]
  },
  {
   "cell_type": "markdown",
   "id": "f4ba4a78-916f-436f-8efb-c092eb49b9de",
   "metadata": {},
   "source": [
    "## Bases "
   ]
  },
  {
   "cell_type": "code",
   "execution_count": null,
   "id": "e10b08b8-8464-4f92-85be-0b795b425c6b",
   "metadata": {},
   "outputs": [],
   "source": [
    "# Dependances\n",
    "import pandas as pd\n",
    "import numpy as np \n",
    "import matplotlib.pyplot as plt\n",
    "import seaborn as sns"
   ]
  },
  {
   "cell_type": "code",
   "execution_count": null,
   "id": "820a4e08-6278-427a-88cd-2f3460804daf",
   "metadata": {},
   "outputs": [],
   "source": [
    "# !pip install"
   ]
  },
  {
   "cell_type": "markdown",
   "id": "f8561c01-7284-421d-b219-b510bc55ed65",
   "metadata": {
    "jp-MarkdownHeadingCollapsed": true
   },
   "source": [
    "### Variable et fonction"
   ]
  },
  {
   "cell_type": "code",
   "execution_count": null,
   "id": "fa6a9f49-d264-460f-85e0-8580d963398a",
   "metadata": {},
   "outputs": [],
   "source": [
    "x = 5 \n",
    "y = 2\n",
    "z = 3 \n",
    "print(x, y, z)"
   ]
  },
  {
   "cell_type": "code",
   "execution_count": null,
   "id": "aac5a2c9-a2a6-414f-a2ea-40c7905d7581",
   "metadata": {},
   "outputs": [],
   "source": [
    "def somme (x, y, z):\n",
    "    Somme = x + y + z\n",
    "    return Somme"
   ]
  },
  {
   "cell_type": "code",
   "execution_count": null,
   "id": "4747ef90-3dc6-42aa-9536-abbc119e8685",
   "metadata": {},
   "outputs": [],
   "source": [
    "somme(5,2,3)"
   ]
  },
  {
   "cell_type": "code",
   "execution_count": null,
   "id": "4c2708df-6615-43ce-b5cd-4bcb30109cfe",
   "metadata": {},
   "outputs": [],
   "source": [
    "somme(x,y,z)"
   ]
  },
  {
   "cell_type": "code",
   "execution_count": null,
   "id": "8c46e331-e47b-4545-a951-8d8e34927bf3",
   "metadata": {},
   "outputs": [],
   "source": [
    "## Créer une fonction permettant de calculer une normalisation et l'utiliser "
   ]
  },
  {
   "cell_type": "markdown",
   "id": "76810654-b1c4-4eae-8945-7b9b92e111fb",
   "metadata": {},
   "source": [
    "<details><summary>Solution</summary>\n",
    "\n",
    "```python\n",
    "    def normal(x, X, s):\n",
    "    x_norm = (x-X)/s\n",
    "    return x_norm\n",
    "```\n",
    "</details>"
   ]
  },
  {
   "cell_type": "markdown",
   "id": "c45327ab-e717-4692-944b-37aa74390ee1",
   "metadata": {
    "jp-MarkdownHeadingCollapsed": true
   },
   "source": [
    "### Listes"
   ]
  },
  {
   "cell_type": "code",
   "execution_count": null,
   "id": "c0a705db-c1ac-4c04-ad5a-5e413566957e",
   "metadata": {},
   "outputs": [],
   "source": [
    "List = [1,2,3,4,5,6] "
   ]
  },
  {
   "cell_type": "code",
   "execution_count": null,
   "id": "437fe06b-b421-4e00-9a3e-005948f6e95e",
   "metadata": {},
   "outputs": [],
   "source": [
    "print(List[1])\n",
    "print(List[-1])\n",
    "print(List[0:3])"
   ]
  },
  {
   "cell_type": "code",
   "execution_count": null,
   "id": "b4148daf-76f8-4383-8dc7-0a3e6954942a",
   "metadata": {},
   "outputs": [],
   "source": [
    "List_2 = [0.1, 0.5, 0.3, 0.9]"
   ]
  },
  {
   "cell_type": "code",
   "execution_count": null,
   "id": "d6289b71-50f5-430f-8971-d830355f4b56",
   "metadata": {},
   "outputs": [],
   "source": [
    "List_2.append(0.4)\n",
    "List_2.insert(2,'Bonjour')"
   ]
  },
  {
   "cell_type": "code",
   "execution_count": null,
   "id": "535f5edf-424f-4b80-a47c-4cb20192d15b",
   "metadata": {},
   "outputs": [],
   "source": [
    "print('Ceci est la Liste 2 :', List_2)\n",
    "print('Voici sa longueur :', len(List_2))"
   ]
  },
  {
   "cell_type": "code",
   "execution_count": null,
   "id": "d1642570-64b6-4411-9c07-9ef0a37db55e",
   "metadata": {},
   "outputs": [],
   "source": [
    "del List_2[2]\n",
    "List_2.sort()\n",
    "List_2"
   ]
  },
  {
   "cell_type": "markdown",
   "id": "8c273cac-1370-4c8f-9efa-6891606f2c8f",
   "metadata": {
    "jp-MarkdownHeadingCollapsed": true
   },
   "source": [
    "### Dictionnaire"
   ]
  },
  {
   "cell_type": "code",
   "execution_count": null,
   "id": "3e0bc207-f9ab-40b8-b1ed-d792bba60ea6",
   "metadata": {},
   "outputs": [],
   "source": [
    "dictionnaire = {'0' : 'Lola',\n",
    "                '1' : 'Dorine',}\n",
    "print(dictionnaire)"
   ]
  },
  {
   "cell_type": "code",
   "execution_count": null,
   "id": "73e3a076-a404-4c42-931b-6eec44301894",
   "metadata": {},
   "outputs": [],
   "source": [
    "classeur = {'name': [], 'age': []}\n",
    "\n",
    "# Les données à ajouter\n",
    "name = ['Ben', 'Sara']\n",
    "age = [26, 23]\n",
    "\n",
    "# Ajouter les éléments un par un\n",
    "classeur['name'].append(name)  # Ajoute chaque élément de la liste `name`\n",
    "classeur['age'].append(age)    # Ajoute chaque élément de la liste `age`\n",
    "\n",
    "print(classeur)"
   ]
  },
  {
   "cell_type": "code",
   "execution_count": null,
   "id": "04e3daf2-b529-4d1c-8f04-ea342294052d",
   "metadata": {},
   "outputs": [],
   "source": [
    "for i in classeur:\n",
    "    print('Voici les clés du dico :', i)"
   ]
  },
  {
   "cell_type": "markdown",
   "id": "bd9af44b-1359-478a-af01-fadd3c1c67f3",
   "metadata": {
    "jp-MarkdownHeadingCollapsed": true
   },
   "source": [
    "### If ?"
   ]
  },
  {
   "cell_type": "code",
   "execution_count": null,
   "id": "ca423d73-1243-4ce1-b383-ed1a39428422",
   "metadata": {},
   "outputs": [],
   "source": [
    "def signe(x): \n",
    "    if x > 0 : \n",
    "        print (x, 'positive')"
   ]
  },
  {
   "cell_type": "code",
   "execution_count": null,
   "id": "cfc0d785-e97e-4809-a815-c2f42a0990fb",
   "metadata": {},
   "outputs": [],
   "source": [
    "print(signe(2), signe(-2))"
   ]
  },
  {
   "cell_type": "code",
   "execution_count": null,
   "id": "c03a2cbd-3780-401a-96a8-9d29621533e8",
   "metadata": {},
   "outputs": [],
   "source": [
    "def signe(x): \n",
    "    if x > 0 : \n",
    "        print (x, 'positive')\n",
    "    else : \n",
    "        print(x, 'negative')"
   ]
  },
  {
   "cell_type": "code",
   "execution_count": null,
   "id": "4e72c13b-cb02-4077-9ee0-dd57a182173d",
   "metadata": {},
   "outputs": [],
   "source": [
    "print(signe(2), signe(-2), signe(0))"
   ]
  },
  {
   "cell_type": "code",
   "execution_count": null,
   "id": "58cd77c2-7781-4d71-b6b7-850a6dabb04a",
   "metadata": {},
   "outputs": [],
   "source": [
    "def signe(x): \n",
    "    if x > 0 : \n",
    "        print (x, 'positive')\n",
    "    elif x == 0 :\n",
    "        print(x, 'null')\n",
    "    else : \n",
    "        print(x, 'negative')"
   ]
  },
  {
   "cell_type": "code",
   "execution_count": null,
   "id": "63fd9341-fd6c-4f48-810b-f885ae54aa9d",
   "metadata": {},
   "outputs": [],
   "source": [
    "print(signe(2), signe(-2), signe(0))"
   ]
  },
  {
   "cell_type": "code",
   "execution_count": null,
   "id": "22d74daa-547f-4df7-9a6d-8dce54f98da7",
   "metadata": {},
   "outputs": [],
   "source": [
    "### Exercice \n",
    "# Step 1 : Créer une liste d'entier positif et négatif\n",
    "# Step 2 : Initialiser un classeur vide avec une clé 'positive' et 'négative'\n",
    "# Step 3 : Créer une fonction trier(dico,nombre) (conseil utiliser append)\n",
    "# Step 4 : Faire passer la liste dans le trieur"
   ]
  },
  {
   "cell_type": "markdown",
   "id": "3ec61b15-8c27-4ceb-abbf-56fe9770fd19",
   "metadata": {},
   "source": [
    "<details><summary>Solution</summary>\n",
    "\n",
    "```python\n",
    "## Création d'une liste d'entier négatif et positif\n",
    "integer = [-2, 3, 5, -6]\n",
    "\n",
    "## Créer un classeur vide\n",
    "classeur = { \"positif\": [],\n",
    "            \"négatif\": []}\n",
    "\n",
    "## Fonction trier\n",
    "def trier(classeur, nombre):\n",
    "    if nombre >= 0:\n",
    "        classeur[\"positif\"].append(nombre)\n",
    "    else:\n",
    "        classeur[\"négatif\"].append(nombre)\n",
    "    return classeur\n",
    "\n",
    "## Faire passer la liste dans le trieur\n",
    "for i in integer:\n",
    "    trier(classeur, i)\n",
    "\n",
    "classeur\n",
    "```\n",
    "</details>"
   ]
  },
  {
   "cell_type": "markdown",
   "id": "071f69d7-456c-4250-a3bf-6fba413bf961",
   "metadata": {
    "jp-MarkdownHeadingCollapsed": true
   },
   "source": [
    "### Built-in Fonctions"
   ]
  },
  {
   "cell_type": "code",
   "execution_count": null,
   "id": "def9edc7-0ba5-4b8e-b870-48be380ff4b1",
   "metadata": {},
   "outputs": [],
   "source": [
    "x = -5.5\n",
    "Liste = [1,2,3,4,5,6] "
   ]
  },
  {
   "cell_type": "code",
   "execution_count": null,
   "id": "c86c2a05-6435-4ed9-bef9-7c20de7636db",
   "metadata": {},
   "outputs": [],
   "source": [
    "print(abs(x))\n",
    "print(max(Liste))\n",
    "print(min(Liste))\n",
    "\n",
    "print(type(x))\n",
    "print(str(x))\n",
    "print(int(x))\n",
    "print(float(x))"
   ]
  },
  {
   "cell_type": "markdown",
   "id": "0e391ab4-5024-4266-a224-66cd2f9caf0b",
   "metadata": {
    "jp-MarkdownHeadingCollapsed": true
   },
   "source": [
    "### Pandas"
   ]
  },
  {
   "cell_type": "code",
   "execution_count": null,
   "id": "caa99055-529c-4fea-bd75-7b96ed31f0b8",
   "metadata": {},
   "outputs": [],
   "source": [
    "data = pd.read_excel('titanic.xls')"
   ]
  },
  {
   "cell_type": "code",
   "execution_count": null,
   "id": "e9fc5bde-e17f-4c2d-a743-edcc8bc2f7c1",
   "metadata": {},
   "outputs": [],
   "source": [
    "data = pd.read_csv('C:/Users/Lucas/dataset_gym.csv', sep = ',')"
   ]
  },
  {
   "cell_type": "code",
   "execution_count": null,
   "id": "e5d2493b-24c7-4ea7-b443-eccebc93a6d0",
   "metadata": {},
   "outputs": [],
   "source": [
    "data.shape"
   ]
  },
  {
   "cell_type": "code",
   "execution_count": null,
   "id": "9b45ca9e-931e-4cac-8e95-b5a125ba0339",
   "metadata": {},
   "outputs": [],
   "source": [
    "data.head()\n",
    "data.tail()"
   ]
  },
  {
   "cell_type": "code",
   "execution_count": null,
   "id": "3d60fca5-cca5-46b7-a8e0-882fb312eab0",
   "metadata": {},
   "outputs": [],
   "source": [
    "data.info\n",
    "data.dtypes"
   ]
  },
  {
   "cell_type": "code",
   "execution_count": null,
   "id": "66f84fe2-2190-4f69-8bb7-5ca0cd811221",
   "metadata": {},
   "outputs": [],
   "source": [
    "print(data.dtypes.value_counts())"
   ]
  },
  {
   "cell_type": "code",
   "execution_count": null,
   "id": "24190bf2-2588-49c0-8dc9-053093c89d4f",
   "metadata": {},
   "outputs": [],
   "source": [
    "data.describe(include = 'all')"
   ]
  },
  {
   "cell_type": "code",
   "execution_count": null,
   "id": "a3eb4593-1789-4cfe-aead-b9ac512cc76b",
   "metadata": {},
   "outputs": [],
   "source": [
    "data.isna().sum()/data.shape[0]"
   ]
  },
  {
   "cell_type": "code",
   "execution_count": null,
   "id": "01766f65-71d8-484c-8a24-ca112235f388",
   "metadata": {},
   "outputs": [],
   "source": [
    "data.dropna(axis = 0, inplace = True)"
   ]
  },
  {
   "cell_type": "code",
   "execution_count": null,
   "id": "126b36ec-61c9-4a74-b91c-bea2dcd70cd7",
   "metadata": {},
   "outputs": [],
   "source": [
    "data['Gender'].replace(['Male','Female'], [0,1], inplace = True)\n",
    "print(data['Gender'].head())"
   ]
  },
  {
   "cell_type": "code",
   "execution_count": null,
   "id": "d83c947c-d3bf-4d73-ac12-4a3c22b96d36",
   "metadata": {},
   "outputs": [],
   "source": [
    "numerical_columns = data.select_dtypes(include=('int64','float64')).columns\n",
    "\n",
    "plt.figure(figsize=(12,8))\n",
    "sns.heatmap(data[numerical_columns].corr(),annot =True)"
   ]
  },
  {
   "cell_type": "code",
   "execution_count": null,
   "id": "a562a12f-9ac9-4f8b-b154-1beed0189ba7",
   "metadata": {},
   "outputs": [],
   "source": [
    "## Outliers"
   ]
  },
  {
   "cell_type": "code",
   "execution_count": null,
   "id": "b7a044c7-b80b-4553-b6df-51cedf120336",
   "metadata": {},
   "outputs": [],
   "source": [
    "def outliers(data):\n",
    "    outliers_dict = {}\n",
    "    \n",
    "    for column in data.select_dtypes(include=[np.number]).columns: \n",
    "        q25, q75 = np.percentile(data[column], [25, 75])\n",
    "        iqr = q75 - q25\n",
    "        lower_bound = q25 - 1.5 * iqr\n",
    "        upper_bound = q75 + 1.5 * iqr\n",
    "\n",
    "        outliers = data[(data[column] < lower_bound) | (data[column] > upper_bound)]\n",
    "        outliers_dict[column] = outliers[column]\n",
    "    \n",
    "    return outliers_dict"
   ]
  },
  {
   "cell_type": "code",
   "execution_count": null,
   "id": "5e30ae80-375c-406d-b3b5-3be66958fdb4",
   "metadata": {},
   "outputs": [],
   "source": [
    "outliers_data = outliers(data)\n",
    "print('Voici les outliers: ', outliers_data)  "
   ]
  },
  {
   "cell_type": "code",
   "execution_count": null,
   "id": "e336e355-b14d-4247-bdde-7e2a06aa2442",
   "metadata": {},
   "outputs": [],
   "source": [
    "for col, outlier_values in outliers_data.items():\n",
    "    print(f\"Outliers dans la colonne {col} :\\n{outlier_values}\\n\")"
   ]
  },
  {
   "cell_type": "markdown",
   "id": "3386bd46-44d4-465e-9831-7ccf3d01fe62",
   "metadata": {
    "jp-MarkdownHeadingCollapsed": true
   },
   "source": [
    "### Plot"
   ]
  },
  {
   "cell_type": "code",
   "execution_count": null,
   "id": "926b1464-4c8f-4ba2-8ba4-eded6066a294",
   "metadata": {},
   "outputs": [],
   "source": [
    "x = np.linspace (0,2,10)\n",
    "y = x**2\n",
    "print(x)"
   ]
  },
  {
   "cell_type": "code",
   "execution_count": null,
   "id": "00829af7-9949-48ef-8462-2d8faf8ec63d",
   "metadata": {},
   "outputs": [],
   "source": [
    "plt.plot(x,y, c = 'red', lw=5, ls= '--')\n",
    "plt.scatter(x,y)\n",
    "plt.show()"
   ]
  },
  {
   "cell_type": "code",
   "execution_count": null,
   "id": "1db9ee3b-e360-47b6-bcf9-3e4e52b3e6dc",
   "metadata": {},
   "outputs": [],
   "source": [
    "plt.figure(figsize = (12,8))\n",
    "plt.plot(x,y, label = 'quadratique')\n",
    "plt.plot(x,x**3, label = 'cubique')\n",
    "plt.title('figure 1')\n",
    "plt.xlabel('Axe x')\n",
    "plt.ylabel('Axe y')\n",
    "plt.legend()\n",
    "plt.show()\n",
    "# plt.savefig('figure.png')"
   ]
  },
  {
   "cell_type": "code",
   "execution_count": null,
   "id": "aa3e5a24-ca3c-4e53-91b6-6bf1940a8b06",
   "metadata": {},
   "outputs": [],
   "source": [
    "plt.subplot(2,1,1)\n",
    "plt.plot(x,y, c= 'red')\n",
    "plt.subplot(2,1,2)\n",
    "plt.plot(x**2,y, c= 'blue')\n",
    "plt.show()"
   ]
  },
  {
   "cell_type": "markdown",
   "id": "227e3f5e-78fd-422b-a0ba-9ea7191b3c5d",
   "metadata": {
    "jp-MarkdownHeadingCollapsed": true
   },
   "source": [
    "### Sigmoide"
   ]
  },
  {
   "cell_type": "code",
   "execution_count": null,
   "id": "1dd20f35-c22d-4919-af7b-057d2fca4012",
   "metadata": {},
   "outputs": [],
   "source": [
    "from scipy.optimize import curve_fit"
   ]
  },
  {
   "cell_type": "code",
   "execution_count": null,
   "id": "4cf5fc06-26b2-42c8-951a-8abfcf6a3def",
   "metadata": {},
   "outputs": [],
   "source": [
    "data = pd.read_csv('data.csv', sep = \";\")\n",
    "data.head()"
   ]
  },
  {
   "cell_type": "code",
   "execution_count": null,
   "id": "0682a9e1-2445-4237-ab26-c613013e8852",
   "metadata": {},
   "outputs": [],
   "source": [
    "grouped = data.groupby(\"Distance\")[\"Estimation\"].mean().reset_index()\n",
    "x_data = grouped[\"Distance\"]\n",
    "y_data = grouped[\"Estimation\"]\n",
    "grouped"
   ]
  },
  {
   "cell_type": "code",
   "execution_count": null,
   "id": "322e2054-15a7-44a8-b752-7255a3844d22",
   "metadata": {},
   "outputs": [],
   "source": [
    "def sigmoid(x, a, b):\n",
    "    return 1 / (1 + np.exp(-a * (x - b)))"
   ]
  },
  {
   "cell_type": "code",
   "execution_count": null,
   "id": "ce175deb-73f7-4dde-9958-d7ff8748ec7d",
   "metadata": {},
   "outputs": [],
   "source": [
    "# Ajustement de la courbe sigmoïde\n",
    "popt, pcov = curve_fit(sigmoid, x_data, y_data, p0=[1, 4])  # Initialisation de a et b\n",
    "\n",
    "# Paramètres ajustés\n",
    "a_fit, b_fit = popt\n",
    "print(f\"Paramètres ajustés : a = {a_fit:.2f}, b = {b_fit:.2f}\")"
   ]
  },
  {
   "cell_type": "code",
   "execution_count": null,
   "id": "6ac55922-dec1-48c4-afe2-1a8bb3914db7",
   "metadata": {},
   "outputs": [],
   "source": [
    "# Tracer la courbe ajustée\n",
    "x_fit = np.linspace(1, 8, 500)  # Points pour tracer la courbe lissée\n",
    "y_fit = sigmoid(x_fit, *popt)\n",
    "\n",
    "plt.figure(figsize=(8, 6))\n",
    "plt.scatter(x_data, y_data, color=\"blue\", label=\"Réponse moyenne par distance\")\n",
    "plt.plot(x_fit, y_fit, color=\"red\", label=\"Courbe sigmoïde ajustée\")\n",
    "plt.axvline(b_fit, color=\"green\", linestyle=\"--\", label=f\"PSE = {b_fit:.2f}\")\n",
    "plt.xlabel(\"Distance\")\n",
    "plt.ylabel(\"Réponse moyenne\")\n",
    "plt.title(\"Ajustement d'une courbe sigmoïde\")\n",
    "plt.legend()\n",
    "plt.grid(True)\n",
    "plt.show()"
   ]
  },
  {
   "cell_type": "markdown",
   "id": "3f351ea5-fb69-41e0-a704-be26d885b338",
   "metadata": {
    "jp-MarkdownHeadingCollapsed": true
   },
   "source": [
    "### Numpy "
   ]
  },
  {
   "cell_type": "code",
   "execution_count": null,
   "id": "7bf0eb3b-9071-482a-9330-752ef7547f0c",
   "metadata": {},
   "outputs": [],
   "source": [
    "A = np.array([[1,2,3], [4,5,6],[7,8,9]])\n",
    "print(A)"
   ]
  },
  {
   "cell_type": "code",
   "execution_count": null,
   "id": "c8df400c-95ad-4fd3-966c-d417910bf9fd",
   "metadata": {},
   "outputs": [],
   "source": [
    "print(A.ndim)\n",
    "print(A.shape)\n",
    "print(A.size)"
   ]
  },
  {
   "cell_type": "code",
   "execution_count": null,
   "id": "2a4fc733-4919-4926-8514-a7e16ae5a033",
   "metadata": {},
   "outputs": [],
   "source": [
    "print(A[:,0])\n",
    "print(A[0,:])\n",
    "print(A[0:2, 0:2])"
   ]
  },
  {
   "cell_type": "markdown",
   "id": "777c499e-b951-4fcb-92c9-b95b06638085",
   "metadata": {
    "jp-MarkdownHeadingCollapsed": true
   },
   "source": [
    "### Analyse du mouvement"
   ]
  },
  {
   "cell_type": "code",
   "execution_count": null,
   "id": "de25efca-91f7-4912-869c-00ec683c59f9",
   "metadata": {},
   "outputs": [],
   "source": [
    "shoulder = np.array([[0, 0, 0], [1, 0, 0], [2, 1, 0], [3, 1, 1], [4, 1, 1]])\n",
    "wrist = np.array([[1, 1, 0], [2, 2, 0], [3, 3, 1], [4, 3, 1], [5, 4, 2]])"
   ]
  },
  {
   "cell_type": "code",
   "execution_count": null,
   "id": "8ebd509e-f413-4ad3-9cdb-339dd130311a",
   "metadata": {},
   "outputs": [],
   "source": [
    "def calculate_velocity(positions, time_interval=1.0):\n",
    "    velocities = np.diff(positions, axis=0) / time_interval  # Différences successives\n",
    "    speeds = np.linalg.norm(velocities, axis=1)  # Norme de la vitesse\n",
    "    return velocities, speeds"
   ]
  },
  {
   "cell_type": "code",
   "execution_count": null,
   "id": "40b40f39-fb97-4a97-a2fb-eabdeeac1731",
   "metadata": {},
   "outputs": [],
   "source": [
    "velocities_shoulder, speeds_shoulder = calculate_velocity(shoulder)\n",
    "velocities_wrist, speeds_wrist = calculate_velocity(wrist)"
   ]
  },
  {
   "cell_type": "code",
   "execution_count": null,
   "id": "344c5c4a-1328-42d0-b524-fc20c29a4fe1",
   "metadata": {},
   "outputs": [],
   "source": [
    "print(velocities_shoulder)\n",
    "print(speeds_shoulder)"
   ]
  },
  {
   "cell_type": "code",
   "execution_count": null,
   "id": "31b66ca1-e35d-4ac3-829e-dc77e5790af0",
   "metadata": {},
   "outputs": [],
   "source": [
    "print(velocities_wrist)\n",
    "print(speeds_wrist)"
   ]
  },
  {
   "cell_type": "code",
   "execution_count": null,
   "id": "cc15d10f-9964-40e8-ae12-701a9938ae01",
   "metadata": {},
   "outputs": [],
   "source": [
    "def calculate_angle(segment1, segment2):\n",
    "    dot_product = np.sum(segment1 * segment2, axis=1)  # Produit scalaire\n",
    "    norms = np.linalg.norm(segment1, axis=1) * np.linalg.norm(segment2, axis=1)\n",
    "    cos_angle = np.clip(dot_product / norms, -1.0, 1.0)  # Éviter les erreurs numériques\n",
    "    angles = np.arccos(cos_angle) * (180 / np.pi)  # Convertir en degrés\n",
    "    return angles"
   ]
  },
  {
   "cell_type": "code",
   "execution_count": null,
   "id": "cbe7c06d-b4a2-4757-97d0-b4eb5bfd399d",
   "metadata": {},
   "outputs": [],
   "source": [
    "relative_positions = wrist - shoulder  # Vecteurs reliant les segments\n",
    "angles = calculate_angle(relative_positions[:-1], relative_positions[1:])"
   ]
  },
  {
   "cell_type": "code",
   "execution_count": null,
   "id": "aa38bb65-7975-46eb-9060-16ba93148364",
   "metadata": {},
   "outputs": [],
   "source": [
    "print(angles)"
   ]
  },
  {
   "cell_type": "code",
   "execution_count": null,
   "id": "a28d8bdc-b33a-4b49-a763-885cbc4fc3f4",
   "metadata": {},
   "outputs": [],
   "source": [
    "#%matplotlib qt\n",
    "from mpl_toolkits.mplot3d import Axes3D"
   ]
  },
  {
   "cell_type": "code",
   "execution_count": null,
   "id": "4a84dce2-85e8-4ec6-ad8a-78e163f2985b",
   "metadata": {},
   "outputs": [],
   "source": [
    "def plot_trajectory(segment1, segment2):\n",
    "    fig = plt.figure(figsize=(8, 6))\n",
    "    ax = fig.add_subplot(111, projection='3d')\n",
    "    ax.plot(segment1[:, 0], segment1[:, 1], segment1[:, 2], label=\"Segment 1 (épaule)\", marker='o')\n",
    "    ax.plot(segment2[:, 0], segment2[:, 1], segment2[:, 2], label=\"Segment 2 (poignet)\", marker='x')\n",
    "    ax.set_xlabel('X')\n",
    "    ax.set_ylabel('Y')\n",
    "    ax.set_zlabel('Z')\n",
    "    ax.legend()\n",
    "    plt.title(\"Trajectoire 3D\")\n",
    "    plt.show()"
   ]
  },
  {
   "cell_type": "code",
   "execution_count": null,
   "id": "3eef56de-d260-441f-b6d7-89c6af749fe4",
   "metadata": {},
   "outputs": [],
   "source": [
    "plot_trajectory(shoulder, wrist)"
   ]
  },
  {
   "cell_type": "code",
   "execution_count": null,
   "id": "286c7b05-1666-420c-a868-8e1a8827f63d",
   "metadata": {},
   "outputs": [],
   "source": [
    "def plot_beautiful_trajectory(shoulder, wrist):\n",
    "    fig = plt.figure(figsize=(10, 8))\n",
    "    ax = fig.add_subplot(111, projection='3d')\n",
    "\n",
    "    # Génération d'un dégradé de couleurs pour indiquer le temps\n",
    "    time_steps = np.linspace(0, 1, shoulder.shape[0])  # Normaliser le temps entre 0 et 1\n",
    "    colors = plt.cm.viridis(time_steps)  # Dégradé de couleurs\n",
    "\n",
    "    # Tracé de la trajectoire de l'épaule\n",
    "    for i in range(shoulder.shape[0] - 1):\n",
    "        ax.plot(\n",
    "            shoulder[i:i + 2, 0], shoulder[i:i + 2, 1], shoulder[i:i + 2, 2],\n",
    "            color=colors[i], linewidth=2.5, label=\"Épaule\" if i == 0 else \"\"\n",
    "        )\n",
    "\n",
    "    # Tracé de la trajectoire du poignet\n",
    "    for i in range(wrist.shape[0] - 1):\n",
    "        ax.plot(\n",
    "            wrist[i:i + 2, 0], wrist[i:i + 2, 1], wrist[i:i + 2, 2],\n",
    "            color=colors[i], linestyle='--', linewidth=2, label=\"Poignet\" if i == 0 else \"\"\n",
    "        )\n",
    "\n",
    "    # Points de départ et de fin\n",
    "    ax.scatter(shoulder[0, 0], shoulder[0, 1], shoulder[0, 2], color='blue', label='Départ', s=100)\n",
    "    ax.scatter(wrist[0, 0], wrist[0, 1], wrist[0, 2], color='red', label='Départ poignet', s=100)\n",
    "    ax.scatter(shoulder[-1, 0], shoulder[-1, 1], shoulder[-1, 2], color='cyan', label='Fin épaule', s=100)\n",
    "    ax.scatter(wrist[-1, 0], wrist[-1, 1], wrist[-1, 2], color='magenta', label='Fin poignet', s=100)\n",
    "\n",
    "    # Configuration esthétique\n",
    "    ax.set_xlabel('X (m)', fontsize=12)\n",
    "    ax.set_ylabel('Y (m)', fontsize=12)\n",
    "    ax.set_zlabel('Z (m)', fontsize=12)\n",
    "    ax.set_title('Trajectoires 3D des segments corporels', fontsize=15, fontweight='bold')\n",
    "    ax.legend(loc='upper left', fontsize=10)\n",
    "    ax.grid(True, linestyle='--', alpha=0.6)\n",
    "\n",
    "    # Ajustement de la vue 3D\n",
    "    ax.view_init(elev=25, azim=135)  # Angle de vue dynamique\n",
    "\n",
    "    plt.tight_layout()\n",
    "    plt.show()\n",
    "\n",
    "# --- Visualiser les trajectoires améliorées ---\n",
    "plot_beautiful_trajectory(shoulder, wrist)"
   ]
  },
  {
   "cell_type": "code",
   "execution_count": null,
   "id": "808ed6a6-e8e0-4fce-ae15-402bf5f5947e",
   "metadata": {},
   "outputs": [],
   "source": [
    "## Cluster / profil"
   ]
  },
  {
   "cell_type": "code",
   "execution_count": null,
   "id": "e935d628-da2a-4a15-9ec3-ce2233921839",
   "metadata": {},
   "outputs": [],
   "source": [
    "# Fix random seed for reproducibility\n",
    "np.random.seed(42)\n",
    "\n",
    "# Define parameters\n",
    "num_participants = 50\n",
    "phases = [\"Préparation\", \"Déplacement initial\", \"Correction\", \"Atteinte finale\"]\n",
    "data = []\n",
    "\n",
    "# Generate simulated data\n",
    "for participant_id in range(1, num_participants + 1):\n",
    "    for phase in phases:\n",
    "        position_x = np.random.uniform(-0.5, 0.5)  # Random positions between -0.5 and 0.5 meters\n",
    "        position_y = np.random.uniform(-0.5, 0.5)\n",
    "        position_z = np.random.uniform(0.0, 1.0)   # Z-axis (height) between 0.0 and 1.0 meters\n",
    "        velocity = np.random.uniform(0.2, 2.0)     # Random velocity between 0.2 and 2.0 m/s\n",
    "        acceleration = np.random.uniform(0.1, 1.5) # Random acceleration between 0.1 and 1.5 m/s²\n",
    "\n",
    "        data.append({\n",
    "            \"Participant_ID\": participant_id,\n",
    "            \"Phase\": phase,\n",
    "            \"Position_moyenne_X\": round(position_x, 3),\n",
    "            \"Position_moyenne_Y\": round(position_y, 3),\n",
    "            \"Position_moyenne_Z\": round(position_z, 3),\n",
    "            \"Vitesse_moyenne\": round(velocity, 3),\n",
    "            \"Accélération_moyenne\": round(acceleration, 3),\n",
    "        })\n",
    "\n",
    "# Convert to DataFrame\n",
    "df = pd.DataFrame(data)\n",
    "df.head(10)"
   ]
  },
  {
   "cell_type": "code",
   "execution_count": null,
   "id": "0153b3d4-349f-43e1-8cee-b7a00223d39a",
   "metadata": {},
   "outputs": [],
   "source": [
    "import matplotlib.pyplot as plt\n",
    "from sklearn.cluster import KMeans\n",
    "\n",
    "# Prepare data for clustering and visualization\n",
    "kmeans_results = {}\n",
    "\n",
    "# Perform K-Means clustering for each phase\n",
    "for phase in phases:\n",
    "    phase_data = df[df[\"Phase\"] == phase][[\"Vitesse_moyenne\", \"Accélération_moyenne\"]]\n",
    "    \n",
    "    # Apply K-Means with k=2\n",
    "    kmeans = KMeans(n_clusters=2, random_state=42)\n",
    "    df.loc[df[\"Phase\"] == phase, \"Cluster\"] = kmeans.fit_predict(phase_data)\n",
    "    kmeans_results[phase] = kmeans\n",
    "\n",
    "    # Plot results\n",
    "    plt.figure(figsize=(8, 6))\n",
    "    plt.scatter(\n",
    "        phase_data[\"Vitesse_moyenne\"],\n",
    "        phase_data[\"Accélération_moyenne\"],\n",
    "        c=kmeans.labels_,\n",
    "        cmap=\"viridis\",\n",
    "        s=100,\n",
    "        alpha=0.7,\n",
    "    )\n",
    "    plt.scatter(\n",
    "        kmeans.cluster_centers_[:, 0],\n",
    "        kmeans.cluster_centers_[:, 1],\n",
    "        c=\"red\",\n",
    "        s=200,\n",
    "        marker=\"X\",\n",
    "        label=\"Centroides\"\n",
    "    )\n",
    "    plt.title(f\"K-Means Clustering (Phase: {phase})\")\n",
    "    plt.xlabel(\"Vitesse Moyenne (m/s)\")\n",
    "    plt.ylabel(\"Accélération Moyenne (m/s²)\")\n",
    "    plt.legend()\n",
    "    plt.grid(True)\n",
    "    plt.show()"
   ]
  },
  {
   "cell_type": "code",
   "execution_count": null,
   "id": "0925d5fb-4f30-4ebe-b72d-20971764979d",
   "metadata": {},
   "outputs": [],
   "source": [
    "from scipy.cluster.hierarchy import dendrogram, linkage\n",
    "from sklearn.preprocessing import StandardScaler\n",
    "\n",
    "# Standardize the data (important for hierarchical clustering)\n",
    "scaler = StandardScaler()\n",
    "\n",
    "for phase in phases:\n",
    "    phase_data = df[df[\"Phase\"] == phase][[\"Vitesse_moyenne\", \"Accélération_moyenne\"]]\n",
    "    scaled_data = scaler.fit_transform(phase_data)\n",
    "    \n",
    "    # Perform hierarchical clustering\n",
    "    linkage_matrix = linkage(scaled_data, method=\"ward\")\n",
    "    \n",
    "    # Plot dendrogram\n",
    "    plt.figure(figsize=(10, 6))\n",
    "    dendrogram(linkage_matrix, labels=df[df[\"Phase\"] == phase][\"Participant_ID\"].values, leaf_rotation=90, leaf_font_size=10)\n",
    "    plt.title(f\"Dendrogramme des Clusters Hiérarchiques (Phase: {phase})\")\n",
    "    plt.xlabel(\"Participant ID\")\n",
    "    plt.ylabel(\"Distance Euclidienne\")\n",
    "    plt.grid(True)\n",
    "    plt.show()"
   ]
  },
  {
   "cell_type": "code",
   "execution_count": null,
   "id": "54162f08-4ae9-4d62-a995-245864cdaeb2",
   "metadata": {},
   "outputs": [],
   "source": [
    "# Create a single figure for all dendrograms\n",
    "fig, axes = plt.subplots(2, 2, figsize=(16, 12))\n",
    "axes = axes.flatten()\n",
    "\n",
    "for i, phase in enumerate(phases):\n",
    "    phase_data = df[df[\"Phase\"] == phase][[\"Vitesse_moyenne\", \"Accélération_moyenne\"]]\n",
    "    scaled_data = scaler.fit_transform(phase_data)\n",
    "    \n",
    "    # Perform hierarchical clustering\n",
    "    linkage_matrix = linkage(scaled_data, method=\"ward\")\n",
    "    \n",
    "    # Plot dendrogram on the corresponding subplot\n",
    "    dendrogram(\n",
    "        linkage_matrix,\n",
    "        labels=df[df[\"Phase\"] == phase][\"Participant_ID\"].values,\n",
    "        leaf_rotation=90,\n",
    "        leaf_font_size=10,\n",
    "        ax=axes[i],\n",
    "    )\n",
    "    axes[i].set_title(f\"Dendrogramme (Phase: {phase})\")\n",
    "    axes[i].set_xlabel(\"Participant ID\")\n",
    "    axes[i].set_ylabel(\"Distance Euclidienne\")\n",
    "    axes[i].grid(True)\n",
    "\n",
    "# Adjust layout for better spacing\n",
    "plt.tight_layout()\n",
    "plt.show()"
   ]
  },
  {
   "cell_type": "markdown",
   "id": "b0919cb3-c8f6-4c35-ba99-36d7a3fea634",
   "metadata": {
    "jp-MarkdownHeadingCollapsed": true
   },
   "source": [
    "### Neuro"
   ]
  },
  {
   "cell_type": "code",
   "execution_count": null,
   "id": "82e1a894-e42b-4fc5-a09c-dda7bb07134b",
   "metadata": {},
   "outputs": [],
   "source": [
    "from nilearn import plotting\n",
    "from nilearn.datasets import fetch_surf_fsaverage"
   ]
  },
  {
   "cell_type": "code",
   "execution_count": null,
   "id": "1a4a8e1d-9e9f-457f-b49f-c2db4775f0da",
   "metadata": {},
   "outputs": [],
   "source": [
    "#!pip install nilearn"
   ]
  },
  {
   "cell_type": "code",
   "execution_count": null,
   "id": "b07d23eb-0ac0-4896-9ff3-056ec52daade",
   "metadata": {},
   "outputs": [],
   "source": [
    "regions = [\n",
    "    \"Frontal Lobe\", \"Parietal Lobe\", \"Occipital Lobe\", \n",
    "    \"Temporal Lobe\", \"Cerebellum\", \"Brainstem\"\n",
    "]\n",
    "\n",
    "# Simuler des niveaux d'activation et des données EMG\n",
    "activation_levels = np.random.rand(len(regions)) * 100  # Intensité entre 0 et 100\n",
    "emg_levels = np.random.rand(len(regions)) * 10  # Valeurs EMG arbitraires entre 0 et 10\n",
    "\n",
    "# Construire le DataFrame\n",
    "df = pd.DataFrame({\n",
    "    \"Region\": regions,\n",
    "    \"Activation_Level\": activation_levels,\n",
    "    \"EMG_Level\": emg_levels\n",
    "})"
   ]
  },
  {
   "cell_type": "code",
   "execution_count": null,
   "id": "81908ab2-f3e1-474f-8a20-2e0e0228c036",
   "metadata": {},
   "outputs": [],
   "source": [
    "# Charger un modèle de cerveau de Nilearn pour la visualisation\n",
    "fsaverage = fetch_surf_fsaverage()\n",
    "texture = np.random.rand(10242)  # Simuler une texture pour le cerveau\n",
    "\n",
    "# Mapper les activations sur la texture (simplifié ici avec une simulation)\n",
    "region_to_vertex = {  # Simple correspondance simulée pour les vertex\n",
    "    \"Frontal Lobe\": slice(0, 2000),\n",
    "    \"Parietal Lobe\": slice(2000, 4000),\n",
    "    \"Occipital Lobe\": slice(4000, 6000),\n",
    "    \"Temporal Lobe\": slice(6000, 8000),\n",
    "    \"Cerebellum\": slice(8000, 9000),\n",
    "    \"Brainstem\": slice(9000, 10242),\n",
    "}\n",
    "for region, indices in region_to_vertex.items():\n",
    "    activation = df.loc[df['Region'] == region, 'Activation_Level'].values[0]\n",
    "    texture[indices] = activation / 100  # Normalisation entre 0 et 1"
   ]
  },
  {
   "cell_type": "code",
   "execution_count": null,
   "id": "398aac77-2d17-4905-92eb-d58c6b39dd96",
   "metadata": {},
   "outputs": [],
   "source": [
    "# Visualisation des activations sur un schéma cérébral\n",
    "plotting.plot_surf_stat_map(\n",
    "    fsaverage['infl_left'], \n",
    "    texture, \n",
    "    hemi='left', \n",
    "    colorbar=True, \n",
    "    title=\"Activation Neurale (Hémisphère Gauche)\"\n",
    ")\n",
    "plotting.plot_surf_stat_map(\n",
    "    fsaverage['infl_right'], \n",
    "    texture, \n",
    "    hemi='right', \n",
    "    colorbar=True, \n",
    "    title=\"Activation Neurale (Hémisphère Droit)\"\n",
    ")\n",
    "\n",
    "plotting.show()  # Affichage de la visualisation"
   ]
  },
  {
   "cell_type": "code",
   "execution_count": null,
   "id": "37b3e4cf-5396-4e6d-8aba-29005c57d4e5",
   "metadata": {},
   "outputs": [],
   "source": [
    "# Charger les données du cerveau de fsaverage\n",
    "fsaverage = fetch_surf_fsaverage()\n",
    "\n",
    "# Créer une texture simulée pour les activations\n",
    "texture = np.zeros(10242)  # Texture de base (10242 points pour le cerveau)\n",
    "\n",
    "# Définir les indices correspondant au lobe frontal et au cortex moteur\n",
    "# Ces indices sont des approximations simplifiées.\n",
    "region_to_vertex = {\n",
    "    \"Frontal Lobe\": slice(1000, 1050),\n",
    "    \"Motor Cortex\": slice(4950, 5000),  # Cortex moteur approximatif\n",
    "}\n",
    "\n",
    "# Simuler une suractivation dans ces régions (valeurs élevées)\n",
    "texture[region_to_vertex[\"Frontal Lobe\"]] = 0.9  # Activation élevée du lobe frontal\n",
    "texture[region_to_vertex[\"Motor Cortex\"]] = 0.9  # Activation élevée du cortex moteur\n",
    "\n",
    "# Visualisation des activations avec une palette de couleurs scientifique\n",
    "plotting.plot_surf_stat_map(\n",
    "    fsaverage['infl_left'], \n",
    "    texture, \n",
    "    hemi='left', \n",
    "    colorbar=True, \n",
    "    title=\"Suractivation du Lobe Frontal et Cortex Moteur (Hémisphère Gauche)\",\n",
    "    threshold=0.5,  # Seulement afficher les activations supérieures à un certain seuil\n",
    "    cmap='cold_hot'  # Utilisation d'une palette scientifique\n",
    ")\n",
    "\n",
    "plotting.plot_surf_stat_map(\n",
    "    fsaverage['infl_right'], \n",
    "    texture, \n",
    "    hemi='right', \n",
    "    colorbar=True, \n",
    "    title=\"Suractivation du Lobe Frontal et Cortex Moteur (Hémisphère Droit)\",\n",
    "    threshold=0.5,  # Seulement afficher les activations supérieures à un certain seuil\n",
    "    cmap='cold_hot'  # Utilisation d'une palette scientifique\n",
    ")\n",
    "\n",
    "plotting.show()  # Afficher la visualisation"
   ]
  },
  {
   "cell_type": "markdown",
   "id": "2537ea8d-5f2c-4dfd-85e2-de08ec9b4a03",
   "metadata": {},
   "source": [
    "### Exercice final"
   ]
  },
  {
   "cell_type": "code",
   "execution_count": null,
   "id": "cdeb1b7e-14bd-4f36-a6b1-b56b643d57bb",
   "metadata": {},
   "outputs": [],
   "source": [
    "# Importer votre dataset\n",
    "# Préparer les données\n",
    "# Visualiser les données \n",
    "# Demander à Chat GPT de vous donner un code pour réaliser une analyse\n",
    "# Appliquer correctement le code\n",
    "# Proposer un graphique et l'enregistrer"
   ]
  }
 ],
 "metadata": {
  "kernelspec": {
   "display_name": "Python 3 (ipykernel)",
   "language": "python",
   "name": "python3"
  },
  "language_info": {
   "codemirror_mode": {
    "name": "ipython",
    "version": 3
   },
   "file_extension": ".py",
   "mimetype": "text/x-python",
   "name": "python",
   "nbconvert_exporter": "python",
   "pygments_lexer": "ipython3",
   "version": "3.12.7"
  }
 },
 "nbformat": 4,
 "nbformat_minor": 5
}
